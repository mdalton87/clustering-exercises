{
 "cells": [
  {
   "cell_type": "code",
   "execution_count": 1,
   "metadata": {},
   "outputs": [],
   "source": [
    "# ignore warnings\n",
    "import warnings\n",
    "warnings.filterwarnings(\"ignore\")\n",
    "\n",
    "# Data getting, cleaning, and exploring\n",
    "import wrangle as w\n",
    "import evaluate as ev\n",
    "import explore as ex\n",
    "\n",
    "# Python without these is hard\n",
    "import pandas as pd\n",
    "import numpy as np\n",
    "from pydataset import data\n",
    "from scipy import stats\n",
    "\n",
    "# Machine Learning\n",
    "from sklearn.model_selection import train_test_split\n",
    "from sklearn.metrics import confusion_matrix\n",
    "import sklearn.preprocessing\n",
    "from sklearn.preprocessing import MinMaxScaler, StandardScaler\n",
    "from sklearn.impute import SimpleImputer\n",
    "# Regression Modeling\n",
    "from sklearn.metrics import mean_squared_error,r2_score\n",
    "from sklearn.linear_model import LinearRegression, LassoLars, TweedieRegressor\n",
    "from sklearn.preprocessing import PolynomialFeatures\n",
    "\n",
    "# Visualization\n",
    "import matplotlib.pyplot as plt\n",
    "%matplotlib inline\n",
    "import seaborn as sns\n",
    "\n",
    "pd.options.display.float_format = '{:20,.4f}'.format"
   ]
  },
  {
   "cell_type": "code",
   "execution_count": 2,
   "metadata": {},
   "outputs": [],
   "source": [
    "df = w.wrangle_zillow()"
   ]
  },
  {
   "cell_type": "code",
   "execution_count": 3,
   "metadata": {},
   "outputs": [
    {
     "data": {
      "text/plain": [
       "(60267, 22)"
      ]
     },
     "execution_count": 3,
     "metadata": {},
     "output_type": "execute_result"
    }
   ],
   "source": [
    "df.shape"
   ]
  },
  {
   "cell_type": "code",
   "execution_count": 4,
   "metadata": {},
   "outputs": [
    {
     "data": {
      "text/plain": [
       "['parcelid',\n",
       " 'bathrooms',\n",
       " 'bedrooms',\n",
       " 'property_sqft',\n",
       " 'fips',\n",
       " 'latitude',\n",
       " 'longitude',\n",
       " 'lot_sqft',\n",
       " 'prop_cnty_land_code',\n",
       " 'prop_land_type_id',\n",
       " 'census_tract_and_block',\n",
       " 'region_id_county',\n",
       " 'unitcnt',\n",
       " 'year_built',\n",
       " 'struct_tax_value',\n",
       " 'tax_value',\n",
       " 'assessment_year',\n",
       " 'land_tax_value',\n",
       " 'tax_amount',\n",
       " 'log_error',\n",
       " 'transaction_date',\n",
       " 'log_error_class']"
      ]
     },
     "execution_count": 4,
     "metadata": {},
     "output_type": "execute_result"
    }
   ],
   "source": [
    "list(df.columns)"
   ]
  },
  {
   "cell_type": "code",
   "execution_count": 5,
   "metadata": {},
   "outputs": [
    {
     "data": {
      "text/html": [
       "<div>\n",
       "<style scoped>\n",
       "    .dataframe tbody tr th:only-of-type {\n",
       "        vertical-align: middle;\n",
       "    }\n",
       "\n",
       "    .dataframe tbody tr th {\n",
       "        vertical-align: top;\n",
       "    }\n",
       "\n",
       "    .dataframe thead th {\n",
       "        text-align: right;\n",
       "    }\n",
       "</style>\n",
       "<table border=\"1\" class=\"dataframe\">\n",
       "  <thead>\n",
       "    <tr style=\"text-align: right;\">\n",
       "      <th></th>\n",
       "      <th>parcelid</th>\n",
       "      <th>bathrooms</th>\n",
       "      <th>bedrooms</th>\n",
       "      <th>property_sqft</th>\n",
       "      <th>fips</th>\n",
       "      <th>latitude</th>\n",
       "      <th>longitude</th>\n",
       "      <th>lot_sqft</th>\n",
       "      <th>prop_cnty_land_code</th>\n",
       "      <th>prop_land_type_id</th>\n",
       "      <th>...</th>\n",
       "      <th>unitcnt</th>\n",
       "      <th>year_built</th>\n",
       "      <th>struct_tax_value</th>\n",
       "      <th>tax_value</th>\n",
       "      <th>assessment_year</th>\n",
       "      <th>land_tax_value</th>\n",
       "      <th>tax_amount</th>\n",
       "      <th>log_error</th>\n",
       "      <th>transaction_date</th>\n",
       "      <th>log_error_class</th>\n",
       "    </tr>\n",
       "  </thead>\n",
       "  <tbody>\n",
       "    <tr>\n",
       "      <th>0</th>\n",
       "      <td>10711855</td>\n",
       "      <td>2.0000</td>\n",
       "      <td>3.0000</td>\n",
       "      <td>2,107.0000</td>\n",
       "      <td>6037</td>\n",
       "      <td>34,222,559.0000</td>\n",
       "      <td>-118,617,387.0000</td>\n",
       "      <td>9,158.0000</td>\n",
       "      <td>0101</td>\n",
       "      <td>261</td>\n",
       "      <td>...</td>\n",
       "      <td>1.0000</td>\n",
       "      <td>1,972.0000</td>\n",
       "      <td>249,655.0000</td>\n",
       "      <td>624,139.0000</td>\n",
       "      <td>2,016.0000</td>\n",
       "      <td>374,484.0000</td>\n",
       "      <td>7,659.3600</td>\n",
       "      <td>-0.0074</td>\n",
       "      <td>2017-07-07</td>\n",
       "      <td>s2</td>\n",
       "    </tr>\n",
       "    <tr>\n",
       "      <th>1</th>\n",
       "      <td>10711877</td>\n",
       "      <td>2.0000</td>\n",
       "      <td>4.0000</td>\n",
       "      <td>1,882.0000</td>\n",
       "      <td>6037</td>\n",
       "      <td>34,220,261.0000</td>\n",
       "      <td>-118,616,409.0000</td>\n",
       "      <td>9,035.0000</td>\n",
       "      <td>0101</td>\n",
       "      <td>261</td>\n",
       "      <td>...</td>\n",
       "      <td>1.0000</td>\n",
       "      <td>1,972.0000</td>\n",
       "      <td>253,000.0000</td>\n",
       "      <td>660,000.0000</td>\n",
       "      <td>2,016.0000</td>\n",
       "      <td>407,000.0000</td>\n",
       "      <td>8,123.9100</td>\n",
       "      <td>0.0211</td>\n",
       "      <td>2017-08-29</td>\n",
       "      <td>s3</td>\n",
       "    </tr>\n",
       "    <tr>\n",
       "      <th>2</th>\n",
       "      <td>10711888</td>\n",
       "      <td>2.0000</td>\n",
       "      <td>4.0000</td>\n",
       "      <td>1,882.0000</td>\n",
       "      <td>6037</td>\n",
       "      <td>34,222,491.0000</td>\n",
       "      <td>-118,616,854.0000</td>\n",
       "      <td>9,800.0000</td>\n",
       "      <td>0100</td>\n",
       "      <td>261</td>\n",
       "      <td>...</td>\n",
       "      <td>1.0000</td>\n",
       "      <td>1,972.0000</td>\n",
       "      <td>257,591.0000</td>\n",
       "      <td>542,923.0000</td>\n",
       "      <td>2,016.0000</td>\n",
       "      <td>285,332.0000</td>\n",
       "      <td>6,673.2400</td>\n",
       "      <td>0.0772</td>\n",
       "      <td>2017-04-04</td>\n",
       "      <td>s4</td>\n",
       "    </tr>\n",
       "    <tr>\n",
       "      <th>3</th>\n",
       "      <td>10711910</td>\n",
       "      <td>2.0000</td>\n",
       "      <td>3.0000</td>\n",
       "      <td>1,477.0000</td>\n",
       "      <td>6037</td>\n",
       "      <td>34,221,864.0000</td>\n",
       "      <td>-118,615,739.0000</td>\n",
       "      <td>11,285.0000</td>\n",
       "      <td>0101</td>\n",
       "      <td>261</td>\n",
       "      <td>...</td>\n",
       "      <td>1.0000</td>\n",
       "      <td>1,960.0000</td>\n",
       "      <td>57,968.0000</td>\n",
       "      <td>78,031.0000</td>\n",
       "      <td>2,016.0000</td>\n",
       "      <td>20,063.0000</td>\n",
       "      <td>1,116.4600</td>\n",
       "      <td>-0.0412</td>\n",
       "      <td>2017-03-17</td>\n",
       "      <td>s1</td>\n",
       "    </tr>\n",
       "    <tr>\n",
       "      <th>4</th>\n",
       "      <td>10711923</td>\n",
       "      <td>2.0000</td>\n",
       "      <td>4.0000</td>\n",
       "      <td>1,918.0000</td>\n",
       "      <td>6037</td>\n",
       "      <td>34,220,619.0000</td>\n",
       "      <td>-118,615,253.0000</td>\n",
       "      <td>11,239.0000</td>\n",
       "      <td>0101</td>\n",
       "      <td>261</td>\n",
       "      <td>...</td>\n",
       "      <td>1.0000</td>\n",
       "      <td>1,960.0000</td>\n",
       "      <td>167,869.0000</td>\n",
       "      <td>415,459.0000</td>\n",
       "      <td>2,016.0000</td>\n",
       "      <td>247,590.0000</td>\n",
       "      <td>5,239.8500</td>\n",
       "      <td>-0.0095</td>\n",
       "      <td>2017-03-24</td>\n",
       "      <td>s2</td>\n",
       "    </tr>\n",
       "  </tbody>\n",
       "</table>\n",
       "<p>5 rows × 22 columns</p>\n",
       "</div>"
      ],
      "text/plain": [
       "   parcelid            bathrooms             bedrooms        property_sqft  \\\n",
       "0  10711855               2.0000               3.0000           2,107.0000   \n",
       "1  10711877               2.0000               4.0000           1,882.0000   \n",
       "2  10711888               2.0000               4.0000           1,882.0000   \n",
       "3  10711910               2.0000               3.0000           1,477.0000   \n",
       "4  10711923               2.0000               4.0000           1,918.0000   \n",
       "\n",
       "   fips             latitude            longitude             lot_sqft  \\\n",
       "0  6037      34,222,559.0000    -118,617,387.0000           9,158.0000   \n",
       "1  6037      34,220,261.0000    -118,616,409.0000           9,035.0000   \n",
       "2  6037      34,222,491.0000    -118,616,854.0000           9,800.0000   \n",
       "3  6037      34,221,864.0000    -118,615,739.0000          11,285.0000   \n",
       "4  6037      34,220,619.0000    -118,615,253.0000          11,239.0000   \n",
       "\n",
       "  prop_cnty_land_code  prop_land_type_id  ...              unitcnt  \\\n",
       "0                0101                261  ...               1.0000   \n",
       "1                0101                261  ...               1.0000   \n",
       "2                0100                261  ...               1.0000   \n",
       "3                0101                261  ...               1.0000   \n",
       "4                0101                261  ...               1.0000   \n",
       "\n",
       "            year_built     struct_tax_value            tax_value  \\\n",
       "0           1,972.0000         249,655.0000         624,139.0000   \n",
       "1           1,972.0000         253,000.0000         660,000.0000   \n",
       "2           1,972.0000         257,591.0000         542,923.0000   \n",
       "3           1,960.0000          57,968.0000          78,031.0000   \n",
       "4           1,960.0000         167,869.0000         415,459.0000   \n",
       "\n",
       "       assessment_year       land_tax_value           tax_amount  \\\n",
       "0           2,016.0000         374,484.0000           7,659.3600   \n",
       "1           2,016.0000         407,000.0000           8,123.9100   \n",
       "2           2,016.0000         285,332.0000           6,673.2400   \n",
       "3           2,016.0000          20,063.0000           1,116.4600   \n",
       "4           2,016.0000         247,590.0000           5,239.8500   \n",
       "\n",
       "             log_error  transaction_date  log_error_class  \n",
       "0              -0.0074        2017-07-07               s2  \n",
       "1               0.0211        2017-08-29               s3  \n",
       "2               0.0772        2017-04-04               s4  \n",
       "3              -0.0412        2017-03-17               s1  \n",
       "4              -0.0095        2017-03-24               s2  \n",
       "\n",
       "[5 rows x 22 columns]"
      ]
     },
     "execution_count": 5,
     "metadata": {},
     "output_type": "execute_result"
    }
   ],
   "source": [
    "df.head()"
   ]
  },
  {
   "cell_type": "code",
   "execution_count": 15,
   "metadata": {},
   "outputs": [],
   "source": [
    "binary_vars = ['orange_cnty','ventura_cnty']\n",
    "categorical_vars = ['prop_land_type_id', 'fips', 'region_id_county']\n",
    "quant_vars = [ 'bathrooms', 'bedrooms', 'property_sqft', 'lot_sqft', 'struct_tax_value', 'tax_value', 'land_tax_value', 'tax_amount', 'log_error']\n",
    "categorical_target = ['log_error_class']\n",
    "continuous_target = ['log_error']"
   ]
  },
  {
   "cell_type": "code",
   "execution_count": 16,
   "metadata": {},
   "outputs": [],
   "source": [
    "train, validate, test = w.train_validate_test_split(df, 'log_error', seed=42)"
   ]
  },
  {
   "cell_type": "code",
   "execution_count": 17,
   "metadata": {},
   "outputs": [],
   "source": [
    "train, validate, test = w.scale_my_data(train, validate, test, quant_vars)"
   ]
  },
  {
   "cell_type": "code",
   "execution_count": 18,
   "metadata": {},
   "outputs": [
    {
     "data": {
      "text/plain": [
       "((33749, 22), (14464, 22), (12054, 22))"
      ]
     },
     "execution_count": 18,
     "metadata": {},
     "output_type": "execute_result"
    }
   ],
   "source": [
    "train.shape, validate.shape, test.shape"
   ]
  },
  {
   "cell_type": "code",
   "execution_count": 19,
   "metadata": {},
   "outputs": [
    {
     "data": {
      "text/html": [
       "<div>\n",
       "<style scoped>\n",
       "    .dataframe tbody tr th:only-of-type {\n",
       "        vertical-align: middle;\n",
       "    }\n",
       "\n",
       "    .dataframe tbody tr th {\n",
       "        vertical-align: top;\n",
       "    }\n",
       "\n",
       "    .dataframe thead th {\n",
       "        text-align: right;\n",
       "    }\n",
       "</style>\n",
       "<table border=\"1\" class=\"dataframe\">\n",
       "  <thead>\n",
       "    <tr style=\"text-align: right;\">\n",
       "      <th></th>\n",
       "      <th>parcelid</th>\n",
       "      <th>bathrooms</th>\n",
       "      <th>bedrooms</th>\n",
       "      <th>property_sqft</th>\n",
       "      <th>fips</th>\n",
       "      <th>latitude</th>\n",
       "      <th>longitude</th>\n",
       "      <th>lot_sqft</th>\n",
       "      <th>prop_cnty_land_code</th>\n",
       "      <th>prop_land_type_id</th>\n",
       "      <th>...</th>\n",
       "      <th>unitcnt</th>\n",
       "      <th>year_built</th>\n",
       "      <th>struct_tax_value</th>\n",
       "      <th>tax_value</th>\n",
       "      <th>assessment_year</th>\n",
       "      <th>land_tax_value</th>\n",
       "      <th>tax_amount</th>\n",
       "      <th>log_error</th>\n",
       "      <th>transaction_date</th>\n",
       "      <th>log_error_class</th>\n",
       "    </tr>\n",
       "  </thead>\n",
       "  <tbody>\n",
       "    <tr>\n",
       "      <th>23570</th>\n",
       "      <td>11732669</td>\n",
       "      <td>0.0000</td>\n",
       "      <td>0.2000</td>\n",
       "      <td>0.0717</td>\n",
       "      <td>6037</td>\n",
       "      <td>34,042,417.0000</td>\n",
       "      <td>-118,287,090.0000</td>\n",
       "      <td>0.1616</td>\n",
       "      <td>0100</td>\n",
       "      <td>261</td>\n",
       "      <td>...</td>\n",
       "      <td>1.0000</td>\n",
       "      <td>1,902.0000</td>\n",
       "      <td>0.0064</td>\n",
       "      <td>0.0467</td>\n",
       "      <td>2,016.0000</td>\n",
       "      <td>0.0446</td>\n",
       "      <td>0.0288</td>\n",
       "      <td>0.4427</td>\n",
       "      <td>2017-07-27</td>\n",
       "      <td>s3</td>\n",
       "    </tr>\n",
       "    <tr>\n",
       "      <th>48525</th>\n",
       "      <td>13008833</td>\n",
       "      <td>0.0000</td>\n",
       "      <td>0.1000</td>\n",
       "      <td>0.1123</td>\n",
       "      <td>6037</td>\n",
       "      <td>34,094,946.0000</td>\n",
       "      <td>-118,053,986.0000</td>\n",
       "      <td>0.2442</td>\n",
       "      <td>0100</td>\n",
       "      <td>261</td>\n",
       "      <td>...</td>\n",
       "      <td>1.0000</td>\n",
       "      <td>1,949.0000</td>\n",
       "      <td>0.2164</td>\n",
       "      <td>0.4314</td>\n",
       "      <td>2,016.0000</td>\n",
       "      <td>0.2415</td>\n",
       "      <td>0.2227</td>\n",
       "      <td>0.3858</td>\n",
       "      <td>2017-02-23</td>\n",
       "      <td>s1</td>\n",
       "    </tr>\n",
       "    <tr>\n",
       "      <th>45856</th>\n",
       "      <td>12871008</td>\n",
       "      <td>0.1429</td>\n",
       "      <td>0.2000</td>\n",
       "      <td>0.1185</td>\n",
       "      <td>6037</td>\n",
       "      <td>34,087,014.0000</td>\n",
       "      <td>-117,733,386.0000</td>\n",
       "      <td>0.2079</td>\n",
       "      <td>0100</td>\n",
       "      <td>261</td>\n",
       "      <td>...</td>\n",
       "      <td>1.0000</td>\n",
       "      <td>1,955.0000</td>\n",
       "      <td>0.0585</td>\n",
       "      <td>0.0815</td>\n",
       "      <td>2,016.0000</td>\n",
       "      <td>0.0277</td>\n",
       "      <td>0.0503</td>\n",
       "      <td>0.4260</td>\n",
       "      <td>2017-08-08</td>\n",
       "      <td>s1</td>\n",
       "    </tr>\n",
       "    <tr>\n",
       "      <th>32802</th>\n",
       "      <td>12212607</td>\n",
       "      <td>0.0000</td>\n",
       "      <td>0.1000</td>\n",
       "      <td>0.1033</td>\n",
       "      <td>6037</td>\n",
       "      <td>33,955,332.0000</td>\n",
       "      <td>-118,260,302.0000</td>\n",
       "      <td>0.1928</td>\n",
       "      <td>0100</td>\n",
       "      <td>261</td>\n",
       "      <td>...</td>\n",
       "      <td>1.0000</td>\n",
       "      <td>1,926.0000</td>\n",
       "      <td>0.0261</td>\n",
       "      <td>0.1243</td>\n",
       "      <td>2,016.0000</td>\n",
       "      <td>0.1081</td>\n",
       "      <td>0.0758</td>\n",
       "      <td>0.4185</td>\n",
       "      <td>2017-07-03</td>\n",
       "      <td>s1</td>\n",
       "    </tr>\n",
       "    <tr>\n",
       "      <th>11098</th>\n",
       "      <td>11151154</td>\n",
       "      <td>0.4286</td>\n",
       "      <td>0.4000</td>\n",
       "      <td>0.4578</td>\n",
       "      <td>6037</td>\n",
       "      <td>34,404,472.0000</td>\n",
       "      <td>-118,442,995.0000</td>\n",
       "      <td>0.2077</td>\n",
       "      <td>0100</td>\n",
       "      <td>261</td>\n",
       "      <td>...</td>\n",
       "      <td>1.0000</td>\n",
       "      <td>2,005.0000</td>\n",
       "      <td>0.2635</td>\n",
       "      <td>0.3656</td>\n",
       "      <td>2,016.0000</td>\n",
       "      <td>0.1208</td>\n",
       "      <td>0.2781</td>\n",
       "      <td>0.4446</td>\n",
       "      <td>2017-07-06</td>\n",
       "      <td>s4</td>\n",
       "    </tr>\n",
       "  </tbody>\n",
       "</table>\n",
       "<p>5 rows × 22 columns</p>\n",
       "</div>"
      ],
      "text/plain": [
       "       parcelid            bathrooms             bedrooms  \\\n",
       "23570  11732669               0.0000               0.2000   \n",
       "48525  13008833               0.0000               0.1000   \n",
       "45856  12871008               0.1429               0.2000   \n",
       "32802  12212607               0.0000               0.1000   \n",
       "11098  11151154               0.4286               0.4000   \n",
       "\n",
       "             property_sqft  fips             latitude            longitude  \\\n",
       "23570               0.0717  6037      34,042,417.0000    -118,287,090.0000   \n",
       "48525               0.1123  6037      34,094,946.0000    -118,053,986.0000   \n",
       "45856               0.1185  6037      34,087,014.0000    -117,733,386.0000   \n",
       "32802               0.1033  6037      33,955,332.0000    -118,260,302.0000   \n",
       "11098               0.4578  6037      34,404,472.0000    -118,442,995.0000   \n",
       "\n",
       "                  lot_sqft prop_cnty_land_code  prop_land_type_id  ...  \\\n",
       "23570               0.1616                0100                261  ...   \n",
       "48525               0.2442                0100                261  ...   \n",
       "45856               0.2079                0100                261  ...   \n",
       "32802               0.1928                0100                261  ...   \n",
       "11098               0.2077                0100                261  ...   \n",
       "\n",
       "                   unitcnt           year_built     struct_tax_value  \\\n",
       "23570               1.0000           1,902.0000               0.0064   \n",
       "48525               1.0000           1,949.0000               0.2164   \n",
       "45856               1.0000           1,955.0000               0.0585   \n",
       "32802               1.0000           1,926.0000               0.0261   \n",
       "11098               1.0000           2,005.0000               0.2635   \n",
       "\n",
       "                 tax_value      assessment_year       land_tax_value  \\\n",
       "23570               0.0467           2,016.0000               0.0446   \n",
       "48525               0.4314           2,016.0000               0.2415   \n",
       "45856               0.0815           2,016.0000               0.0277   \n",
       "32802               0.1243           2,016.0000               0.1081   \n",
       "11098               0.3656           2,016.0000               0.1208   \n",
       "\n",
       "                tax_amount            log_error  transaction_date  \\\n",
       "23570               0.0288               0.4427        2017-07-27   \n",
       "48525               0.2227               0.3858        2017-02-23   \n",
       "45856               0.0503               0.4260        2017-08-08   \n",
       "32802               0.0758               0.4185        2017-07-03   \n",
       "11098               0.2781               0.4446        2017-07-06   \n",
       "\n",
       "       log_error_class  \n",
       "23570               s3  \n",
       "48525               s1  \n",
       "45856               s1  \n",
       "32802               s1  \n",
       "11098               s4  \n",
       "\n",
       "[5 rows x 22 columns]"
      ]
     },
     "execution_count": 19,
     "metadata": {},
     "output_type": "execute_result"
    }
   ],
   "source": [
    "train.head()"
   ]
  },
  {
   "cell_type": "code",
   "execution_count": 20,
   "metadata": {
    "scrolled": true
   },
   "outputs": [
    {
     "data": {
      "image/png": "[encoded data removed]",
      "text/plain": [
       "<Figure size 144x144 with 1 Axes>"
      ]
     },
     "metadata": {
      "needs_background": "light"
     },
     "output_type": "display_data"
    },
    {
     "name": "stdout",
     "output_type": "stream",
     "text": [
      "     prop_land_type_id  Count              Percent\n",
      "261                261  27114              80.3400\n",
      "266                266   6386              18.9200\n",
      "265                265    203               0.6000\n",
      "275                275     22               0.0700\n",
      "267                263     12               0.0400\n",
      "263                267      8               0.0200\n",
      "264                260      2               0.0100\n",
      "260                264      2               0.0100\n",
      "_________________________________________________________________\n"
     ]
    },
    {
     "data": {
      "image/png": "[encoded data removed]",
      "text/plain": [
       "<Figure size 144x144 with 1 Axes>"
      ]
     },
     "metadata": {
      "needs_background": "light"
     },
     "output_type": "display_data"
    },
    {
     "name": "stdout",
     "output_type": "stream",
     "text": [
      "      fips  Count              Percent\n",
      "6037  6037  19656              58.2400\n",
      "6059  6059  10886              32.2600\n",
      "6111  6111   3207               9.5000\n",
      "_________________________________________________________________\n"
     ]
    },
    {
     "data": {
      "image/png": "[encoded data removed]",
      "text/plain": [
       "<Figure size 144x144 with 1 Axes>"
      ]
     },
     "metadata": {
      "needs_background": "light"
     },
     "output_type": "display_data"
    },
    {
     "name": "stdout",
     "output_type": "stream",
     "text": [
      "               region_id_county  Count              Percent\n",
      "3,101.0000           3,101.0000  19656              58.2400\n",
      "1,286.0000           1,286.0000  10886              32.2600\n",
      "2,061.0000           2,061.0000   3207               9.5000\n",
      "_________________________________________________________________\n"
     ]
    },
    {
     "data": {
      "image/png": "[encoded data removed]",
      "text/plain": [
       "<Figure size 576x144 with 2 Axes>"
      ]
     },
     "metadata": {
      "needs_background": "light"
     },
     "output_type": "display_data"
    },
    {
     "name": "stdout",
     "output_type": "stream",
     "text": [
      "count            33,749.0000\n",
      "mean                  0.1702\n",
      "std                   0.1194\n",
      "min                   0.0000\n",
      "25%                   0.1429\n",
      "50%                   0.1429\n",
      "75%                   0.2857\n",
      "max                   1.0000\n",
      "Name: bathrooms, dtype: float64\n"
     ]
    },
    {
     "data": {
      "image/png": "[encoded data removed]",
      "text/plain": [
       "<Figure size 576x144 with 2 Axes>"
      ]
     },
     "metadata": {
      "needs_background": "light"
     },
     "output_type": "display_data"
    },
    {
     "name": "stdout",
     "output_type": "stream",
     "text": [
      "count            33,749.0000\n",
      "mean                  0.2064\n",
      "std                   0.0947\n",
      "min                   0.0000\n",
      "25%                   0.1000\n",
      "50%                   0.2000\n",
      "75%                   0.3000\n",
      "max                   1.0000\n",
      "Name: bedrooms, dtype: float64\n"
     ]
    },
    {
     "data": {
      "image/png": "[encoded data removed]",
      "text/plain": [
       "<Figure size 576x144 with 2 Axes>"
      ]
     },
     "metadata": {
      "needs_background": "light"
     },
     "output_type": "display_data"
    },
    {
     "name": "stdout",
     "output_type": "stream",
     "text": [
      "count            33,749.0000\n",
      "mean                  0.2157\n",
      "std                   0.1034\n",
      "min                   0.0000\n",
      "25%                   0.1440\n",
      "50%                   0.1909\n",
      "75%                   0.2625\n",
      "max                   1.0000\n",
      "Name: property_sqft, dtype: float64\n"
     ]
    },
    {
     "data": {
      "image/png": "[encoded data removed]",
      "text/plain": [
       "<Figure size 576x144 with 2 Axes>"
      ]
     },
     "metadata": {
      "needs_background": "light"
     },
     "output_type": "display_data"
    },
    {
     "name": "stdout",
     "output_type": "stream",
     "text": [
      "count            33,749.0000\n",
      "mean                  0.2717\n",
      "std                   0.1588\n",
      "min                   0.0000\n",
      "25%                   0.1850\n",
      "50%                   0.2352\n",
      "75%                   0.2996\n",
      "max                   1.0000\n",
      "Name: lot_sqft, dtype: float64\n"
     ]
    },
    {
     "data": {
      "image/png": "[encoded data removed]",
      "text/plain": [
       "<Figure size 576x144 with 2 Axes>"
      ]
     },
     "metadata": {
      "needs_background": "light"
     },
     "output_type": "display_data"
    },
    {
     "name": "stdout",
     "output_type": "stream",
     "text": [
      "count            33,749.0000\n",
      "mean                  0.1011\n",
      "std                   0.0783\n",
      "min                   0.0000\n",
      "25%                   0.0492\n",
      "50%                   0.0809\n",
      "75%                   0.1288\n",
      "max                   1.0000\n",
      "Name: struct_tax_value, dtype: float64\n"
     ]
    },
    {
     "data": {
      "image/png": "[encoded data removed]",
      "text/plain": [
       "<Figure size 576x144 with 2 Axes>"
      ]
     },
     "metadata": {
      "needs_background": "light"
     },
     "output_type": "display_data"
    },
    {
     "name": "stdout",
     "output_type": "stream",
     "text": [
      "count            33,749.0000\n",
      "mean                  0.2506\n",
      "std                   0.1811\n",
      "min                   0.0000\n",
      "25%                   0.1201\n",
      "50%                   0.2135\n",
      "75%                   0.3311\n",
      "max                   1.0000\n",
      "Name: tax_value, dtype: float64\n"
     ]
    },
    {
     "data": {
      "image/png": "[encoded data removed]",
      "text/plain": [
       "<Figure size 576x144 with 2 Axes>"
      ]
     },
     "metadata": {
      "needs_background": "light"
     },
     "output_type": "display_data"
    },
    {
     "name": "stdout",
     "output_type": "stream",
     "text": [
      "count            33,749.0000\n",
      "mean                  0.1663\n",
      "std                   0.1444\n",
      "min                   0.0000\n",
      "25%                   0.0541\n",
      "50%                   0.1344\n",
      "75%                   0.2348\n",
      "max                   1.0000\n",
      "Name: land_tax_value, dtype: float64\n"
     ]
    },
    {
     "data": {
      "image/png": "[encoded data removed]",
      "text/plain": [
       "<Figure size 576x144 with 2 Axes>"
      ]
     },
     "metadata": {
      "needs_background": "light"
     },
     "output_type": "display_data"
    },
    {
     "name": "stdout",
     "output_type": "stream",
     "text": [
      "count            33,749.0000\n",
      "mean                  0.1368\n",
      "std                   0.0941\n",
      "min                   0.0000\n",
      "25%                   0.0704\n",
      "50%                   0.1169\n",
      "75%                   0.1773\n",
      "max                   1.0000\n",
      "Name: tax_amount, dtype: float64\n"
     ]
    },
    {
     "data": {
      "image/png": "[encoded data removed]",
      "text/plain": [
       "<Figure size 576x144 with 2 Axes>"
      ]
     },
     "metadata": {
      "needs_background": "light"
     },
     "output_type": "display_data"
    },
    {
     "name": "stdout",
     "output_type": "stream",
     "text": [
      "count            33,749.0000\n",
      "mean                  0.4401\n",
      "std                   0.0288\n",
      "min                   0.0000\n",
      "25%                   0.4327\n",
      "50%                   0.4381\n",
      "75%                   0.4438\n",
      "max                   1.0000\n",
      "Name: log_error, dtype: float64\n"
     ]
    }
   ],
   "source": [
    "ex.explore_univariate(train, categorical_vars, quant_vars)"
   ]
  },
  {
   "cell_type": "markdown",
   "metadata": {},
   "source": [
    "- Features with a lot of outliers:\n",
    "    - bathrooms, property_sqft, lot_sqft, struct_tax_value, tax_value, land_tax_value, tax_amount, and log_error\n",
    "- Bedrooms appear to be normally distributed\n",
    "- Lat and long are good indicators of population density by location, also I shouldn't of Scaled lat and long.\n",
    "- \n"
   ]
  },
  {
   "cell_type": "code",
   "execution_count": 9,
   "metadata": {},
   "outputs": [
    {
     "ename": "KeyError",
     "evalue": "\"None of [Index(['orange_cnty', 'ventura_cnty'], dtype='object')] are in the [columns]\"",
     "output_type": "error",
     "traceback": [
      "\u001b[0;31m---------------------------------------------------------------------------\u001b[0m",
      "\u001b[0;31mKeyError\u001b[0m                                  Traceback (most recent call last)",
      "\u001b[0;32m<ipython-input-9-0a55984b625d>\u001b[0m in \u001b[0;36m<module>\u001b[0;34m\u001b[0m\n\u001b[0;32m----> 1\u001b[0;31m \u001b[0mpd\u001b[0m\u001b[0;34m.\u001b[0m\u001b[0mcrosstab\u001b[0m\u001b[0;34m(\u001b[0m\u001b[0mtrain\u001b[0m\u001b[0;34m[\u001b[0m\u001b[0mbinary_vars\u001b[0m\u001b[0;34m]\u001b[0m\u001b[0;34m.\u001b[0m\u001b[0mmean\u001b[0m\u001b[0;34m(\u001b[0m\u001b[0;34m)\u001b[0m\u001b[0;34m,\u001b[0m \u001b[0mtrain\u001b[0m\u001b[0;34m[\u001b[0m\u001b[0mcategorical_target\u001b[0m\u001b[0;34m]\u001b[0m\u001b[0;34m.\u001b[0m\u001b[0mmean\u001b[0m\u001b[0;34m(\u001b[0m\u001b[0;34m)\u001b[0m\u001b[0;34m,\u001b[0m \u001b[0mmargins\u001b[0m\u001b[0;34m=\u001b[0m\u001b[0;32mTrue\u001b[0m\u001b[0;34m)\u001b[0m\u001b[0;34m\u001b[0m\u001b[0;34m\u001b[0m\u001b[0m\n\u001b[0m",
      "\u001b[0;32m/usr/local/anaconda3/lib/python3.8/site-packages/pandas/core/frame.py\u001b[0m in \u001b[0;36m__getitem__\u001b[0;34m(self, key)\u001b[0m\n\u001b[1;32m   2906\u001b[0m             \u001b[0;32mif\u001b[0m \u001b[0mis_iterator\u001b[0m\u001b[0;34m(\u001b[0m\u001b[0mkey\u001b[0m\u001b[0;34m)\u001b[0m\u001b[0;34m:\u001b[0m\u001b[0;34m\u001b[0m\u001b[0;34m\u001b[0m\u001b[0m\n\u001b[1;32m   2907\u001b[0m                 \u001b[0mkey\u001b[0m \u001b[0;34m=\u001b[0m \u001b[0mlist\u001b[0m\u001b[0;34m(\u001b[0m\u001b[0mkey\u001b[0m\u001b[0;34m)\u001b[0m\u001b[0;34m\u001b[0m\u001b[0;34m\u001b[0m\u001b[0m\n\u001b[0;32m-> 2908\u001b[0;31m             \u001b[0mindexer\u001b[0m \u001b[0;34m=\u001b[0m \u001b[0mself\u001b[0m\u001b[0;34m.\u001b[0m\u001b[0mloc\u001b[0m\u001b[0;34m.\u001b[0m\u001b[0m_get_listlike_indexer\u001b[0m\u001b[0;34m(\u001b[0m\u001b[0mkey\u001b[0m\u001b[0;34m,\u001b[0m \u001b[0maxis\u001b[0m\u001b[0;34m=\u001b[0m\u001b[0;36m1\u001b[0m\u001b[0;34m,\u001b[0m \u001b[0mraise_missing\u001b[0m\u001b[0;34m=\u001b[0m\u001b[0;32mTrue\u001b[0m\u001b[0;34m)\u001b[0m\u001b[0;34m[\u001b[0m\u001b[0;36m1\u001b[0m\u001b[0;34m]\u001b[0m\u001b[0;34m\u001b[0m\u001b[0;34m\u001b[0m\u001b[0m\n\u001b[0m\u001b[1;32m   2909\u001b[0m \u001b[0;34m\u001b[0m\u001b[0m\n\u001b[1;32m   2910\u001b[0m         \u001b[0;31m# take() does not accept boolean indexers\u001b[0m\u001b[0;34m\u001b[0m\u001b[0;34m\u001b[0m\u001b[0;34m\u001b[0m\u001b[0m\n",
      "\u001b[0;32m/usr/local/anaconda3/lib/python3.8/site-packages/pandas/core/indexing.py\u001b[0m in \u001b[0;36m_get_listlike_indexer\u001b[0;34m(self, key, axis, raise_missing)\u001b[0m\n\u001b[1;32m   1252\u001b[0m             \u001b[0mkeyarr\u001b[0m\u001b[0;34m,\u001b[0m \u001b[0mindexer\u001b[0m\u001b[0;34m,\u001b[0m \u001b[0mnew_indexer\u001b[0m \u001b[0;34m=\u001b[0m \u001b[0max\u001b[0m\u001b[0;34m.\u001b[0m\u001b[0m_reindex_non_unique\u001b[0m\u001b[0;34m(\u001b[0m\u001b[0mkeyarr\u001b[0m\u001b[0;34m)\u001b[0m\u001b[0;34m\u001b[0m\u001b[0;34m\u001b[0m\u001b[0m\n\u001b[1;32m   1253\u001b[0m \u001b[0;34m\u001b[0m\u001b[0m\n\u001b[0;32m-> 1254\u001b[0;31m         \u001b[0mself\u001b[0m\u001b[0;34m.\u001b[0m\u001b[0m_validate_read_indexer\u001b[0m\u001b[0;34m(\u001b[0m\u001b[0mkeyarr\u001b[0m\u001b[0;34m,\u001b[0m \u001b[0mindexer\u001b[0m\u001b[0;34m,\u001b[0m \u001b[0maxis\u001b[0m\u001b[0;34m,\u001b[0m \u001b[0mraise_missing\u001b[0m\u001b[0;34m=\u001b[0m\u001b[0mraise_missing\u001b[0m\u001b[0;34m)\u001b[0m\u001b[0;34m\u001b[0m\u001b[0;34m\u001b[0m\u001b[0m\n\u001b[0m\u001b[1;32m   1255\u001b[0m         \u001b[0;32mreturn\u001b[0m \u001b[0mkeyarr\u001b[0m\u001b[0;34m,\u001b[0m \u001b[0mindexer\u001b[0m\u001b[0;34m\u001b[0m\u001b[0;34m\u001b[0m\u001b[0m\n\u001b[1;32m   1256\u001b[0m \u001b[0;34m\u001b[0m\u001b[0m\n",
      "\u001b[0;32m/usr/local/anaconda3/lib/python3.8/site-packages/pandas/core/indexing.py\u001b[0m in \u001b[0;36m_validate_read_indexer\u001b[0;34m(self, key, indexer, axis, raise_missing)\u001b[0m\n\u001b[1;32m   1296\u001b[0m             \u001b[0;32mif\u001b[0m \u001b[0mmissing\u001b[0m \u001b[0;34m==\u001b[0m \u001b[0mlen\u001b[0m\u001b[0;34m(\u001b[0m\u001b[0mindexer\u001b[0m\u001b[0;34m)\u001b[0m\u001b[0;34m:\u001b[0m\u001b[0;34m\u001b[0m\u001b[0;34m\u001b[0m\u001b[0m\n\u001b[1;32m   1297\u001b[0m                 \u001b[0maxis_name\u001b[0m \u001b[0;34m=\u001b[0m \u001b[0mself\u001b[0m\u001b[0;34m.\u001b[0m\u001b[0mobj\u001b[0m\u001b[0;34m.\u001b[0m\u001b[0m_get_axis_name\u001b[0m\u001b[0;34m(\u001b[0m\u001b[0maxis\u001b[0m\u001b[0;34m)\u001b[0m\u001b[0;34m\u001b[0m\u001b[0;34m\u001b[0m\u001b[0m\n\u001b[0;32m-> 1298\u001b[0;31m                 \u001b[0;32mraise\u001b[0m \u001b[0mKeyError\u001b[0m\u001b[0;34m(\u001b[0m\u001b[0;34mf\"None of [{key}] are in the [{axis_name}]\"\u001b[0m\u001b[0;34m)\u001b[0m\u001b[0;34m\u001b[0m\u001b[0;34m\u001b[0m\u001b[0m\n\u001b[0m\u001b[1;32m   1299\u001b[0m \u001b[0;34m\u001b[0m\u001b[0m\n\u001b[1;32m   1300\u001b[0m             \u001b[0;31m# We (temporarily) allow for some missing keys with .loc, except in\u001b[0m\u001b[0;34m\u001b[0m\u001b[0;34m\u001b[0m\u001b[0;34m\u001b[0m\u001b[0m\n",
      "\u001b[0;31mKeyError\u001b[0m: \"None of [Index(['orange_cnty', 'ventura_cnty'], dtype='object')] are in the [columns]\""
     ]
    }
   ],
   "source": [
    "pd.crosstab(train[binary_vars].mean(), train[categorical_target].mean(), margins=True)"
   ]
  },
  {
   "cell_type": "code",
   "execution_count": null,
   "metadata": {},
   "outputs": [],
   "source": [
    "# ex.explore_bivariate(train, categorical_target, continuous_target, binary_vars, quant_vars)"
   ]
  },
  {
   "cell_type": "code",
   "execution_count": null,
   "metadata": {},
   "outputs": [],
   "source": [
    "# for var in binary_vars:\n",
    "#     ex.explore_multivariate(train, categorical_target, var, quant_vars)"
   ]
  },
  {
   "cell_type": "code",
   "execution_count": null,
   "metadata": {},
   "outputs": [],
   "source": []
  }
 ],
 "metadata": {
  "kernelspec": {
   "display_name": "Python 3",
   "language": "python",
   "name": "python3"
  },
  "language_info": {
   "codemirror_mode": {
    "name": "ipython",
    "version": 3
   },
   "file_extension": ".py",
   "mimetype": "text/x-python",
   "name": "python",
   "nbconvert_exporter": "python",
   "pygments_lexer": "ipython3",
   "version": "3.8.5"
  }
 },
 "nbformat": 4,
 "nbformat_minor": 4
}
