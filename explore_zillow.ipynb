{
 "cells": [
  {
   "cell_type": "code",
   "execution_count": 1,
   "metadata": {},
   "outputs": [],
   "source": [
    "# ignore warnings\n",
    "import warnings\n",
    "warnings.filterwarnings(\"ignore\")\n",
    "\n",
    "# Data getting, cleaning, and exploring\n",
    "import wrangle as w\n",
    "import evaluate as ev\n",
    "import explore as ex\n",
    "\n",
    "# Python without these is hard\n",
    "import pandas as pd\n",
    "import numpy as np\n",
    "from pydataset import data\n",
    "from scipy import stats\n",
    "\n",
    "# Machine Learning\n",
    "from sklearn.model_selection import train_test_split\n",
    "from sklearn.metrics import confusion_matrix\n",
    "import sklearn.preprocessing\n",
    "from sklearn.preprocessing import MinMaxScaler, StandardScaler\n",
    "from sklearn.impute import SimpleImputer\n",
    "# Regression Modeling\n",
    "from sklearn.metrics import mean_squared_error,r2_score\n",
    "from sklearn.linear_model import LinearRegression, LassoLars, TweedieRegressor\n",
    "from sklearn.preprocessing import PolynomialFeatures\n",
    "\n",
    "# Visualization\n",
    "import matplotlib.pyplot as plt\n",
    "%matplotlib inline\n",
    "import seaborn as sns\n",
    "\n",
    "pd.options.display.float_format = '{:20,.4f}'.format"
   ]
  },
  {
   "cell_type": "code",
   "execution_count": 2,
   "metadata": {},
   "outputs": [],
   "source": [
    "df = w.wrangle_zillow()"
   ]
  },
  {
   "cell_type": "code",
   "execution_count": 3,
   "metadata": {},
   "outputs": [
    {
     "data": {
      "text/plain": [
       "(71525, 23)"
      ]
     },
     "execution_count": 3,
     "metadata": {},
     "output_type": "execute_result"
    }
   ],
   "source": [
    "df.shape"
   ]
  },
  {
   "cell_type": "code",
   "execution_count": 4,
   "metadata": {},
   "outputs": [
    {
     "data": {
      "text/plain": [
       "['parcelid',\n",
       " 'bathrooms',\n",
       " 'bedrooms',\n",
       " 'property_sqft',\n",
       " 'latitude',\n",
       " 'longitude',\n",
       " 'lot_sqft',\n",
       " 'prop_cnty_land_code',\n",
       " 'prop_land_type_id',\n",
       " 'census_tract_and_block',\n",
       " 'region_id_county',\n",
       " 'unitcnt',\n",
       " 'year_built',\n",
       " 'struct_tax_value',\n",
       " 'tax_value',\n",
       " 'assessment_year',\n",
       " 'land_tax_value',\n",
       " 'tax_amount',\n",
       " 'log_error',\n",
       " 'transaction_date',\n",
       " 'orange_cnty',\n",
       " 'ventura_cnty',\n",
       " 'log_error_class']"
      ]
     },
     "execution_count": 4,
     "metadata": {},
     "output_type": "execute_result"
    }
   ],
   "source": [
    "list(df.columns)"
   ]
  },
  {
   "cell_type": "code",
   "execution_count": 8,
   "metadata": {},
   "outputs": [],
   "source": [
    "binary_vars = ['orange_cnty','ventura_cnty']\n",
    "categorical_vars = ['prop_land_type_id','region_id_county']\n",
    "quant_vars = [ 'bathrooms', 'bedrooms', 'property_sqft', 'latitude', 'longitude', 'lot_sqft', 'struct_tax_value', 'tax_value', 'land_tax_value', 'tax_amount', 'log_error']\n",
    "categorical_target = ['log_error_class']\n",
    "continuous_target = ['log_error']"
   ]
  },
  {
   "cell_type": "code",
   "execution_count": 6,
   "metadata": {},
   "outputs": [],
   "source": [
    "train, validate, test = w.train_validate_test_split(df, 'log_error', seed=42)"
   ]
  },
  {
   "cell_type": "code",
   "execution_count": 9,
   "metadata": {},
   "outputs": [],
   "source": [
    "train, validate, test = w.scale_my_data(train, validate, test, quant_vars)"
   ]
  },
  {
   "cell_type": "code",
   "execution_count": 10,
   "metadata": {},
   "outputs": [
    {
     "data": {
      "text/plain": [
       "((40054, 23), (17166, 23), (14305, 23))"
      ]
     },
     "execution_count": 10,
     "metadata": {},
     "output_type": "execute_result"
    }
   ],
   "source": [
    "train.shape, validate.shape, test.shape"
   ]
  },
  {
   "cell_type": "code",
   "execution_count": 11,
   "metadata": {},
   "outputs": [
    {
     "data": {
      "text/html": [
       "<div>\n",
       "<style scoped>\n",
       "    .dataframe tbody tr th:only-of-type {\n",
       "        vertical-align: middle;\n",
       "    }\n",
       "\n",
       "    .dataframe tbody tr th {\n",
       "        vertical-align: top;\n",
       "    }\n",
       "\n",
       "    .dataframe thead th {\n",
       "        text-align: right;\n",
       "    }\n",
       "</style>\n",
       "<table border=\"1\" class=\"dataframe\">\n",
       "  <thead>\n",
       "    <tr style=\"text-align: right;\">\n",
       "      <th></th>\n",
       "      <th>parcelid</th>\n",
       "      <th>bathrooms</th>\n",
       "      <th>bedrooms</th>\n",
       "      <th>property_sqft</th>\n",
       "      <th>latitude</th>\n",
       "      <th>longitude</th>\n",
       "      <th>lot_sqft</th>\n",
       "      <th>prop_cnty_land_code</th>\n",
       "      <th>prop_land_type_id</th>\n",
       "      <th>census_tract_and_block</th>\n",
       "      <th>...</th>\n",
       "      <th>struct_tax_value</th>\n",
       "      <th>tax_value</th>\n",
       "      <th>assessment_year</th>\n",
       "      <th>land_tax_value</th>\n",
       "      <th>tax_amount</th>\n",
       "      <th>log_error</th>\n",
       "      <th>transaction_date</th>\n",
       "      <th>orange_cnty</th>\n",
       "      <th>ventura_cnty</th>\n",
       "      <th>log_error_class</th>\n",
       "    </tr>\n",
       "  </thead>\n",
       "  <tbody>\n",
       "    <tr>\n",
       "      <th>62705</th>\n",
       "      <td>14430704</td>\n",
       "      <td>1.2864</td>\n",
       "      <td>0.9697</td>\n",
       "      <td>2.1583</td>\n",
       "      <td>-1.9243</td>\n",
       "      <td>1.3276</td>\n",
       "      <td>-0.1926</td>\n",
       "      <td>122</td>\n",
       "      <td>261</td>\n",
       "      <td>60,590,423.2320</td>\n",
       "      <td>...</td>\n",
       "      <td>2.0287</td>\n",
       "      <td>1.8995</td>\n",
       "      <td>2,016.0000</td>\n",
       "      <td>1.6115</td>\n",
       "      <td>1.7246</td>\n",
       "      <td>0.1043</td>\n",
       "      <td>2017-05-19</td>\n",
       "      <td>1</td>\n",
       "      <td>0</td>\n",
       "      <td>s3</td>\n",
       "    </tr>\n",
       "    <tr>\n",
       "      <th>63921</th>\n",
       "      <td>14474916</td>\n",
       "      <td>0.2361</td>\n",
       "      <td>0.9697</td>\n",
       "      <td>0.7858</td>\n",
       "      <td>-1.4957</td>\n",
       "      <td>1.4846</td>\n",
       "      <td>-0.1578</td>\n",
       "      <td>122</td>\n",
       "      <td>261</td>\n",
       "      <td>60,590,320.0320</td>\n",
       "      <td>...</td>\n",
       "      <td>0.0485</td>\n",
       "      <td>-0.1432</td>\n",
       "      <td>2,016.0000</td>\n",
       "      <td>-0.2222</td>\n",
       "      <td>-0.2570</td>\n",
       "      <td>-0.1762</td>\n",
       "      <td>2017-07-17</td>\n",
       "      <td>1</td>\n",
       "      <td>0</td>\n",
       "      <td>s2</td>\n",
       "    </tr>\n",
       "    <tr>\n",
       "      <th>50708</th>\n",
       "      <td>13843803</td>\n",
       "      <td>-1.3394</td>\n",
       "      <td>-0.0211</td>\n",
       "      <td>-0.6856</td>\n",
       "      <td>-1.0100</td>\n",
       "      <td>0.8678</td>\n",
       "      <td>-0.1829</td>\n",
       "      <td>122</td>\n",
       "      <td>261</td>\n",
       "      <td>60,590,747.0220</td>\n",
       "      <td>...</td>\n",
       "      <td>-0.6313</td>\n",
       "      <td>-0.1196</td>\n",
       "      <td>2,016.0000</td>\n",
       "      <td>0.1505</td>\n",
       "      <td>-0.1355</td>\n",
       "      <td>0.0664</td>\n",
       "      <td>2017-08-24</td>\n",
       "      <td>1</td>\n",
       "      <td>0</td>\n",
       "      <td>s3</td>\n",
       "    </tr>\n",
       "    <tr>\n",
       "      <th>30838</th>\n",
       "      <td>12115143</td>\n",
       "      <td>-0.2891</td>\n",
       "      <td>-1.0119</td>\n",
       "      <td>-0.6782</td>\n",
       "      <td>0.5597</td>\n",
       "      <td>0.2071</td>\n",
       "      <td>-0.1240</td>\n",
       "      <td>010C</td>\n",
       "      <td>266</td>\n",
       "      <td>60,374,623.0140</td>\n",
       "      <td>...</td>\n",
       "      <td>0.4376</td>\n",
       "      <td>0.0308</td>\n",
       "      <td>2,016.0000</td>\n",
       "      <td>-0.1764</td>\n",
       "      <td>-0.0143</td>\n",
       "      <td>-0.6398</td>\n",
       "      <td>2017-04-17</td>\n",
       "      <td>0</td>\n",
       "      <td>0</td>\n",
       "      <td>s1</td>\n",
       "    </tr>\n",
       "    <tr>\n",
       "      <th>68001</th>\n",
       "      <td>14672371</td>\n",
       "      <td>-0.2891</td>\n",
       "      <td>-0.0211</td>\n",
       "      <td>-0.5707</td>\n",
       "      <td>-1.0660</td>\n",
       "      <td>0.4135</td>\n",
       "      <td>-0.2324</td>\n",
       "      <td>34</td>\n",
       "      <td>266</td>\n",
       "      <td>60,590,994.1610</td>\n",
       "      <td>...</td>\n",
       "      <td>-0.4529</td>\n",
       "      <td>-0.1599</td>\n",
       "      <td>2,016.0000</td>\n",
       "      <td>0.0054</td>\n",
       "      <td>-0.2060</td>\n",
       "      <td>-0.1663</td>\n",
       "      <td>2017-08-25</td>\n",
       "      <td>1</td>\n",
       "      <td>0</td>\n",
       "      <td>s2</td>\n",
       "    </tr>\n",
       "  </tbody>\n",
       "</table>\n",
       "<p>5 rows × 23 columns</p>\n",
       "</div>"
      ],
      "text/plain": [
       "       parcelid            bathrooms             bedrooms  \\\n",
       "62705  14430704               1.2864               0.9697   \n",
       "63921  14474916               0.2361               0.9697   \n",
       "50708  13843803              -1.3394              -0.0211   \n",
       "30838  12115143              -0.2891              -1.0119   \n",
       "68001  14672371              -0.2891              -0.0211   \n",
       "\n",
       "             property_sqft             latitude            longitude  \\\n",
       "62705               2.1583              -1.9243               1.3276   \n",
       "63921               0.7858              -1.4957               1.4846   \n",
       "50708              -0.6856              -1.0100               0.8678   \n",
       "30838              -0.6782               0.5597               0.2071   \n",
       "68001              -0.5707              -1.0660               0.4135   \n",
       "\n",
       "                  lot_sqft prop_cnty_land_code  prop_land_type_id  \\\n",
       "62705              -0.1926                 122                261   \n",
       "63921              -0.1578                 122                261   \n",
       "50708              -0.1829                 122                261   \n",
       "30838              -0.1240                010C                266   \n",
       "68001              -0.2324                  34                266   \n",
       "\n",
       "       census_tract_and_block  ...     struct_tax_value            tax_value  \\\n",
       "62705         60,590,423.2320  ...               2.0287               1.8995   \n",
       "63921         60,590,320.0320  ...               0.0485              -0.1432   \n",
       "50708         60,590,747.0220  ...              -0.6313              -0.1196   \n",
       "30838         60,374,623.0140  ...               0.4376               0.0308   \n",
       "68001         60,590,994.1610  ...              -0.4529              -0.1599   \n",
       "\n",
       "           assessment_year       land_tax_value           tax_amount  \\\n",
       "62705           2,016.0000               1.6115               1.7246   \n",
       "63921           2,016.0000              -0.2222              -0.2570   \n",
       "50708           2,016.0000               0.1505              -0.1355   \n",
       "30838           2,016.0000              -0.1764              -0.0143   \n",
       "68001           2,016.0000               0.0054              -0.2060   \n",
       "\n",
       "                 log_error  transaction_date  orange_cnty  ventura_cnty  \\\n",
       "62705               0.1043        2017-05-19            1             0   \n",
       "63921              -0.1762        2017-07-17            1             0   \n",
       "50708               0.0664        2017-08-24            1             0   \n",
       "30838              -0.6398        2017-04-17            0             0   \n",
       "68001              -0.1663        2017-08-25            1             0   \n",
       "\n",
       "      log_error_class  \n",
       "62705              s3  \n",
       "63921              s2  \n",
       "50708              s3  \n",
       "30838              s1  \n",
       "68001              s2  \n",
       "\n",
       "[5 rows x 23 columns]"
      ]
     },
     "execution_count": 11,
     "metadata": {},
     "output_type": "execute_result"
    }
   ],
   "source": [
    "train.head()"
   ]
  },
  {
   "cell_type": "code",
   "execution_count": 13,
   "metadata": {},
   "outputs": [
    {
     "data": {
      "image/png": "[encoded data removed]",
      "text/plain": [
       "<Figure size 144x144 with 1 Axes>"
      ]
     },
     "metadata": {
      "needs_background": "light"
     },
     "output_type": "display_data"
    },
    {
     "name": "stdout",
     "output_type": "stream",
     "text": [
      "     prop_land_type_id  Count              Percent\n",
      "261                261  29175              72.8400\n",
      "266                266  10612              26.4900\n",
      "265                265    189               0.4700\n",
      "263                263     31               0.0800\n",
      "267                275     21               0.0500\n",
      "275                267     17               0.0400\n",
      "260                264      7               0.0200\n",
      "264                260      2               0.0000\n",
      "_________________________________________________________________\n"
     ]
    },
    {
     "data": {
      "image/png": "[encoded data removed]",
      "text/plain": [
       "<Figure size 144x144 with 1 Axes>"
      ]
     },
     "metadata": {
      "needs_background": "light"
     },
     "output_type": "display_data"
    },
    {
     "name": "stdout",
     "output_type": "stream",
     "text": [
      "               region_id_county  Count              Percent\n",
      "3,101.0000           1,286.0000  25284              63.1200\n",
      "1,286.0000           3,101.0000  11372              28.3900\n",
      "2,061.0000           2,061.0000   3398               8.4800\n",
      "_________________________________________________________________\n"
     ]
    },
    {
     "data": {
      "image/png": "[encoded data removed]",
      "text/plain": [
       "<Figure size 576x144 with 2 Axes>"
      ]
     },
     "metadata": {
      "needs_background": "light"
     },
     "output_type": "display_data"
    },
    {
     "name": "stdout",
     "output_type": "stream",
     "text": [
      "count            40,054.0000\n",
      "mean                  0.0000\n",
      "std                   1.0000\n",
      "min                  -1.3394\n",
      "25%                  -0.2891\n",
      "50%                  -0.2891\n",
      "75%                   0.7613\n",
      "max                  11.2646\n",
      "Name: bathrooms, dtype: float64\n"
     ]
    },
    {
     "data": {
      "image/png": "[encoded data removed]",
      "text/plain": [
       "<Figure size 576x144 with 2 Axes>"
      ]
     },
     "metadata": {
      "needs_background": "light"
     },
     "output_type": "display_data"
    },
    {
     "name": "stdout",
     "output_type": "stream",
     "text": [
      "count            40,054.0000\n",
      "mean                  0.0000\n",
      "std                   1.0000\n",
      "min                  -2.0027\n",
      "25%                  -1.0119\n",
      "50%                  -0.0211\n",
      "75%                   0.9697\n",
      "max                   7.9053\n",
      "Name: bedrooms, dtype: float64\n"
     ]
    },
    {
     "data": {
      "image/png": "[encoded data removed]",
      "text/plain": [
       "<Figure size 576x144 with 2 Axes>"
      ]
     },
     "metadata": {
      "needs_background": "light"
     },
     "output_type": "display_data"
    },
    {
     "name": "stdout",
     "output_type": "stream",
     "text": [
      "count            40,054.0000\n",
      "mean                 -0.0000\n",
      "std                   1.0000\n",
      "min                  -1.6123\n",
      "25%                  -0.6293\n",
      "50%                  -0.2579\n",
      "75%                   0.3326\n",
      "max                  21.4616\n",
      "Name: property_sqft, dtype: float64\n"
     ]
    },
    {
     "data": {
      "image/png": "[encoded data removed]",
      "text/plain": [
       "<Figure size 576x144 with 2 Axes>"
      ]
     },
     "metadata": {
      "needs_background": "light"
     },
     "output_type": "display_data"
    },
    {
     "name": "stdout",
     "output_type": "stream",
     "text": [
      "count            40,054.0000\n",
      "mean                  0.0000\n",
      "std                   1.0000\n",
      "min                  -2.4659\n",
      "25%                  -0.7443\n",
      "50%                   0.0517\n",
      "75%                   0.6366\n",
      "max                   2.9762\n",
      "Name: latitude, dtype: float64\n"
     ]
    },
    {
     "data": {
      "image/png": "[encoded data removed]",
      "text/plain": [
       "<Figure size 576x144 with 2 Axes>"
      ]
     },
     "metadata": {
      "needs_background": "light"
     },
     "output_type": "display_data"
    },
    {
     "name": "stdout",
     "output_type": "stream",
     "text": [
      "count            40,054.0000\n",
      "mean                  0.0000\n",
      "std                   1.0000\n",
      "min                  -3.4958\n",
      "25%                  -0.6006\n",
      "50%                   0.0798\n",
      "75%                   0.7748\n",
      "max                   1.7634\n",
      "Name: longitude, dtype: float64\n"
     ]
    },
    {
     "data": {
      "image/png": "[encoded data removed]",
      "text/plain": [
       "<Figure size 576x144 with 2 Axes>"
      ]
     },
     "metadata": {
      "needs_background": "light"
     },
     "output_type": "display_data"
    },
    {
     "name": "stdout",
     "output_type": "stream",
     "text": [
      "count            40,054.0000\n",
      "mean                  0.0000\n",
      "std                   1.0000\n",
      "min                  -0.2423\n",
      "25%                  -0.1977\n",
      "50%                  -0.1837\n",
      "75%                  -0.1476\n",
      "max                  60.4410\n",
      "Name: lot_sqft, dtype: float64\n"
     ]
    },
    {
     "data": {
      "image/png": "[encoded data removed]",
      "text/plain": [
       "<Figure size 576x144 with 2 Axes>"
      ]
     },
     "metadata": {
      "needs_background": "light"
     },
     "output_type": "display_data"
    },
    {
     "name": "stdout",
     "output_type": "stream",
     "text": [
      "count            40,054.0000\n",
      "mean                  0.0000\n",
      "std                   1.0000\n",
      "min                  -0.8119\n",
      "25%                  -0.4549\n",
      "50%                  -0.2331\n",
      "75%                   0.1213\n",
      "max                  38.6331\n",
      "Name: struct_tax_value, dtype: float64\n"
     ]
    },
    {
     "data": {
      "image/png": "[encoded data removed]",
      "text/plain": [
       "<Figure size 576x144 with 2 Axes>"
      ]
     },
     "metadata": {
      "needs_background": "light"
     },
     "output_type": "display_data"
    },
    {
     "name": "stdout",
     "output_type": "stream",
     "text": [
      "count            40,054.0000\n",
      "mean                  0.0000\n",
      "std                   1.0000\n",
      "min                  -0.7563\n",
      "25%                  -0.4453\n",
      "50%                  -0.2085\n",
      "75%                   0.1227\n",
      "max                  38.7639\n",
      "Name: tax_value, dtype: float64\n"
     ]
    },
    {
     "data": {
      "image/png": "[encoded data removed]",
      "text/plain": [
       "<Figure size 576x144 with 2 Axes>"
      ]
     },
     "metadata": {
      "needs_background": "light"
     },
     "output_type": "display_data"
    },
    {
     "name": "stdout",
     "output_type": "stream",
     "text": [
      "count            40,054.0000\n",
      "mean                  0.0000\n",
      "std                   1.0000\n",
      "min                  -0.6461\n",
      "25%                  -0.4699\n",
      "50%                  -0.2110\n",
      "75%                   0.1439\n",
      "max                  47.4486\n",
      "Name: land_tax_value, dtype: float64\n"
     ]
    },
    {
     "data": {
      "image/png": "[encoded data removed]",
      "text/plain": [
       "<Figure size 576x144 with 2 Axes>"
      ]
     },
     "metadata": {
      "needs_background": "light"
     },
     "output_type": "display_data"
    },
    {
     "name": "stdout",
     "output_type": "stream",
     "text": [
      "count            40,054.0000\n",
      "mean                 -0.0000\n",
      "std                   1.0000\n",
      "min                  -0.7943\n",
      "25%                  -0.4410\n",
      "50%                  -0.2101\n",
      "75%                   0.1198\n",
      "max                  37.7972\n",
      "Name: tax_amount, dtype: float64\n"
     ]
    },
    {
     "data": {
      "image/png": "[encoded data removed]",
      "text/plain": [
       "<Figure size 576x144 with 2 Axes>"
      ]
     },
     "metadata": {
      "needs_background": "light"
     },
     "output_type": "display_data"
    },
    {
     "name": "stdout",
     "output_type": "stream",
     "text": [
      "count            40,054.0000\n",
      "mean                  0.0000\n",
      "std                   1.0000\n",
      "min                 -27.3226\n",
      "25%                  -0.2426\n",
      "50%                  -0.0642\n",
      "75%                   0.1228\n",
      "max                  19.7430\n",
      "Name: log_error, dtype: float64\n"
     ]
    }
   ],
   "source": [
    "ex.explore_univariate(train, categorical_vars, quant_vars)"
   ]
  },
  {
   "cell_type": "code",
   "execution_count": 15,
   "metadata": {},
   "outputs": [
    {
     "name": "stdout",
     "output_type": "stream",
     "text": [
      "orange_cnty \n",
      "_____________________\n",
      "\n"
     ]
    },
    {
     "ename": "ValueError",
     "evalue": "Shape of passed values is (1, 2), indices imply (40054, 2)",
     "output_type": "error",
     "traceback": [
      "\u001b[0;31m---------------------------------------------------------------------------\u001b[0m",
      "\u001b[0;31mValueError\u001b[0m                                Traceback (most recent call last)",
      "\u001b[0;32m<ipython-input-15-48fa7463a5c5>\u001b[0m in \u001b[0;36m<module>\u001b[0;34m\u001b[0m\n\u001b[0;32m----> 1\u001b[0;31m \u001b[0mex\u001b[0m\u001b[0;34m.\u001b[0m\u001b[0mexplore_bivariate\u001b[0m\u001b[0;34m(\u001b[0m\u001b[0mtrain\u001b[0m\u001b[0;34m,\u001b[0m \u001b[0mcategorical_target\u001b[0m\u001b[0;34m,\u001b[0m \u001b[0mcontinuous_target\u001b[0m\u001b[0;34m,\u001b[0m \u001b[0mbinary_vars\u001b[0m\u001b[0;34m,\u001b[0m \u001b[0mquant_vars\u001b[0m\u001b[0;34m)\u001b[0m\u001b[0;34m\u001b[0m\u001b[0;34m\u001b[0m\u001b[0m\n\u001b[0m",
      "\u001b[0;32m~/codeup-data-science/clustering-exercises/explore.py\u001b[0m in \u001b[0;36mexplore_bivariate\u001b[0;34m(train, categorical_target, continuous_target, binary_vars, quant_vars)\u001b[0m\n\u001b[1;32m    154\u001b[0m \u001b[0;34m\u001b[0m\u001b[0m\n\u001b[1;32m    155\u001b[0m     \u001b[0;32mfor\u001b[0m \u001b[0mbinary\u001b[0m \u001b[0;32min\u001b[0m \u001b[0mbinary_vars\u001b[0m\u001b[0;34m:\u001b[0m\u001b[0;34m\u001b[0m\u001b[0;34m\u001b[0m\u001b[0m\n\u001b[0;32m--> 156\u001b[0;31m         \u001b[0mexplore_bivariate_categorical\u001b[0m\u001b[0;34m(\u001b[0m\u001b[0mtrain\u001b[0m\u001b[0;34m,\u001b[0m \u001b[0mcategorical_target\u001b[0m\u001b[0;34m,\u001b[0m \u001b[0mcontinuous_target\u001b[0m\u001b[0;34m,\u001b[0m \u001b[0mbinary\u001b[0m\u001b[0;34m)\u001b[0m\u001b[0;34m\u001b[0m\u001b[0;34m\u001b[0m\u001b[0m\n\u001b[0m\u001b[1;32m    157\u001b[0m     \u001b[0;32mfor\u001b[0m \u001b[0mquant\u001b[0m \u001b[0;32min\u001b[0m \u001b[0mquant_vars\u001b[0m\u001b[0;34m:\u001b[0m\u001b[0;34m\u001b[0m\u001b[0;34m\u001b[0m\u001b[0m\n\u001b[1;32m    158\u001b[0m         \u001b[0mexplore_bivariate_quant\u001b[0m\u001b[0;34m(\u001b[0m\u001b[0mtrain\u001b[0m\u001b[0;34m,\u001b[0m \u001b[0mcategorical_target\u001b[0m\u001b[0;34m,\u001b[0m \u001b[0mcontinuous_target\u001b[0m\u001b[0;34m,\u001b[0m \u001b[0mquant\u001b[0m\u001b[0;34m)\u001b[0m\u001b[0;34m\u001b[0m\u001b[0;34m\u001b[0m\u001b[0m\n",
      "\u001b[0;32m~/codeup-data-science/clustering-exercises/explore.py\u001b[0m in \u001b[0;36mexplore_bivariate_categorical\u001b[0;34m(train, categorical_target, continuous_target, binary_var)\u001b[0m\n\u001b[1;32m    169\u001b[0m     '''\n\u001b[1;32m    170\u001b[0m     \u001b[0mprint\u001b[0m\u001b[0;34m(\u001b[0m\u001b[0mbinary_var\u001b[0m\u001b[0;34m,\u001b[0m \u001b[0;34m\"\\n_____________________\\n\"\u001b[0m\u001b[0;34m)\u001b[0m\u001b[0;34m\u001b[0m\u001b[0;34m\u001b[0m\u001b[0m\n\u001b[0;32m--> 171\u001b[0;31m     \u001b[0mct\u001b[0m \u001b[0;34m=\u001b[0m \u001b[0mpd\u001b[0m\u001b[0;34m.\u001b[0m\u001b[0mcrosstab\u001b[0m\u001b[0;34m(\u001b[0m\u001b[0mtrain\u001b[0m\u001b[0;34m[\u001b[0m\u001b[0mbinary_var\u001b[0m\u001b[0;34m]\u001b[0m\u001b[0;34m,\u001b[0m \u001b[0mtrain\u001b[0m\u001b[0;34m[\u001b[0m\u001b[0mcategorical_target\u001b[0m\u001b[0;34m]\u001b[0m\u001b[0;34m,\u001b[0m \u001b[0mmargins\u001b[0m\u001b[0;34m=\u001b[0m\u001b[0;32mTrue\u001b[0m\u001b[0;34m)\u001b[0m\u001b[0;34m\u001b[0m\u001b[0;34m\u001b[0m\u001b[0m\n\u001b[0m\u001b[1;32m    172\u001b[0m     \u001b[0mchi2_summary\u001b[0m\u001b[0;34m,\u001b[0m \u001b[0mobserved\u001b[0m\u001b[0;34m,\u001b[0m \u001b[0mexpected\u001b[0m \u001b[0;34m=\u001b[0m \u001b[0mrun_chi2\u001b[0m\u001b[0;34m(\u001b[0m\u001b[0mtrain\u001b[0m\u001b[0;34m,\u001b[0m \u001b[0mbinary_var\u001b[0m\u001b[0;34m,\u001b[0m \u001b[0mcategorical_target\u001b[0m\u001b[0;34m)\u001b[0m\u001b[0;34m\u001b[0m\u001b[0;34m\u001b[0m\u001b[0m\n\u001b[1;32m    173\u001b[0m     \u001b[0mmannwhitney\u001b[0m \u001b[0;34m=\u001b[0m \u001b[0mcompare_means\u001b[0m\u001b[0;34m(\u001b[0m\u001b[0mtrain\u001b[0m\u001b[0;34m,\u001b[0m \u001b[0mcontinuous_target\u001b[0m\u001b[0;34m,\u001b[0m \u001b[0mbinary_var\u001b[0m\u001b[0;34m,\u001b[0m \u001b[0malt_hyp\u001b[0m\u001b[0;34m=\u001b[0m\u001b[0;34m'two-sided'\u001b[0m\u001b[0;34m)\u001b[0m\u001b[0;34m\u001b[0m\u001b[0;34m\u001b[0m\u001b[0m\n",
      "\u001b[0;32m/usr/local/anaconda3/lib/python3.8/site-packages/pandas/core/reshape/pivot.py\u001b[0m in \u001b[0;36mcrosstab\u001b[0;34m(index, columns, values, rownames, colnames, aggfunc, margins, margins_name, dropna, normalize)\u001b[0m\n\u001b[1;32m    604\u001b[0m     \u001b[0;32mfrom\u001b[0m \u001b[0mpandas\u001b[0m \u001b[0;32mimport\u001b[0m \u001b[0mDataFrame\u001b[0m\u001b[0;34m\u001b[0m\u001b[0;34m\u001b[0m\u001b[0m\n\u001b[1;32m    605\u001b[0m \u001b[0;34m\u001b[0m\u001b[0m\n\u001b[0;32m--> 606\u001b[0;31m     \u001b[0mdf\u001b[0m \u001b[0;34m=\u001b[0m \u001b[0mDataFrame\u001b[0m\u001b[0;34m(\u001b[0m\u001b[0mdata\u001b[0m\u001b[0;34m,\u001b[0m \u001b[0mindex\u001b[0m\u001b[0;34m=\u001b[0m\u001b[0mcommon_idx\u001b[0m\u001b[0;34m)\u001b[0m\u001b[0;34m\u001b[0m\u001b[0;34m\u001b[0m\u001b[0m\n\u001b[0m\u001b[1;32m    607\u001b[0m     \u001b[0moriginal_df_cols\u001b[0m \u001b[0;34m=\u001b[0m \u001b[0mdf\u001b[0m\u001b[0;34m.\u001b[0m\u001b[0mcolumns\u001b[0m\u001b[0;34m\u001b[0m\u001b[0;34m\u001b[0m\u001b[0m\n\u001b[1;32m    608\u001b[0m \u001b[0;34m\u001b[0m\u001b[0m\n",
      "\u001b[0;32m/usr/local/anaconda3/lib/python3.8/site-packages/pandas/core/frame.py\u001b[0m in \u001b[0;36m__init__\u001b[0;34m(self, data, index, columns, dtype, copy)\u001b[0m\n\u001b[1;32m    466\u001b[0m \u001b[0;34m\u001b[0m\u001b[0m\n\u001b[1;32m    467\u001b[0m         \u001b[0;32melif\u001b[0m \u001b[0misinstance\u001b[0m\u001b[0;34m(\u001b[0m\u001b[0mdata\u001b[0m\u001b[0;34m,\u001b[0m \u001b[0mdict\u001b[0m\u001b[0;34m)\u001b[0m\u001b[0;34m:\u001b[0m\u001b[0;34m\u001b[0m\u001b[0;34m\u001b[0m\u001b[0m\n\u001b[0;32m--> 468\u001b[0;31m             \u001b[0mmgr\u001b[0m \u001b[0;34m=\u001b[0m \u001b[0minit_dict\u001b[0m\u001b[0;34m(\u001b[0m\u001b[0mdata\u001b[0m\u001b[0;34m,\u001b[0m \u001b[0mindex\u001b[0m\u001b[0;34m,\u001b[0m \u001b[0mcolumns\u001b[0m\u001b[0;34m,\u001b[0m \u001b[0mdtype\u001b[0m\u001b[0;34m=\u001b[0m\u001b[0mdtype\u001b[0m\u001b[0;34m)\u001b[0m\u001b[0;34m\u001b[0m\u001b[0;34m\u001b[0m\u001b[0m\n\u001b[0m\u001b[1;32m    469\u001b[0m         \u001b[0;32melif\u001b[0m \u001b[0misinstance\u001b[0m\u001b[0;34m(\u001b[0m\u001b[0mdata\u001b[0m\u001b[0;34m,\u001b[0m \u001b[0mma\u001b[0m\u001b[0;34m.\u001b[0m\u001b[0mMaskedArray\u001b[0m\u001b[0;34m)\u001b[0m\u001b[0;34m:\u001b[0m\u001b[0;34m\u001b[0m\u001b[0;34m\u001b[0m\u001b[0m\n\u001b[1;32m    470\u001b[0m             \u001b[0;32mimport\u001b[0m \u001b[0mnumpy\u001b[0m\u001b[0;34m.\u001b[0m\u001b[0mma\u001b[0m\u001b[0;34m.\u001b[0m\u001b[0mmrecords\u001b[0m \u001b[0;32mas\u001b[0m \u001b[0mmrecords\u001b[0m\u001b[0;34m\u001b[0m\u001b[0;34m\u001b[0m\u001b[0m\n",
      "\u001b[0;32m/usr/local/anaconda3/lib/python3.8/site-packages/pandas/core/internals/construction.py\u001b[0m in \u001b[0;36minit_dict\u001b[0;34m(data, index, columns, dtype)\u001b[0m\n\u001b[1;32m    281\u001b[0m             \u001b[0marr\u001b[0m \u001b[0;32mif\u001b[0m \u001b[0;32mnot\u001b[0m \u001b[0mis_datetime64tz_dtype\u001b[0m\u001b[0;34m(\u001b[0m\u001b[0marr\u001b[0m\u001b[0;34m)\u001b[0m \u001b[0;32melse\u001b[0m \u001b[0marr\u001b[0m\u001b[0;34m.\u001b[0m\u001b[0mcopy\u001b[0m\u001b[0;34m(\u001b[0m\u001b[0;34m)\u001b[0m \u001b[0;32mfor\u001b[0m \u001b[0marr\u001b[0m \u001b[0;32min\u001b[0m \u001b[0marrays\u001b[0m\u001b[0;34m\u001b[0m\u001b[0;34m\u001b[0m\u001b[0m\n\u001b[1;32m    282\u001b[0m         ]\n\u001b[0;32m--> 283\u001b[0;31m     \u001b[0;32mreturn\u001b[0m \u001b[0marrays_to_mgr\u001b[0m\u001b[0;34m(\u001b[0m\u001b[0marrays\u001b[0m\u001b[0;34m,\u001b[0m \u001b[0mdata_names\u001b[0m\u001b[0;34m,\u001b[0m \u001b[0mindex\u001b[0m\u001b[0;34m,\u001b[0m \u001b[0mcolumns\u001b[0m\u001b[0;34m,\u001b[0m \u001b[0mdtype\u001b[0m\u001b[0;34m=\u001b[0m\u001b[0mdtype\u001b[0m\u001b[0;34m)\u001b[0m\u001b[0;34m\u001b[0m\u001b[0;34m\u001b[0m\u001b[0m\n\u001b[0m\u001b[1;32m    284\u001b[0m \u001b[0;34m\u001b[0m\u001b[0m\n\u001b[1;32m    285\u001b[0m \u001b[0;34m\u001b[0m\u001b[0m\n",
      "\u001b[0;32m/usr/local/anaconda3/lib/python3.8/site-packages/pandas/core/internals/construction.py\u001b[0m in \u001b[0;36marrays_to_mgr\u001b[0;34m(arrays, arr_names, index, columns, dtype, verify_integrity)\u001b[0m\n\u001b[1;32m     91\u001b[0m     \u001b[0maxes\u001b[0m \u001b[0;34m=\u001b[0m \u001b[0;34m[\u001b[0m\u001b[0mcolumns\u001b[0m\u001b[0;34m,\u001b[0m \u001b[0mindex\u001b[0m\u001b[0;34m]\u001b[0m\u001b[0;34m\u001b[0m\u001b[0;34m\u001b[0m\u001b[0m\n\u001b[1;32m     92\u001b[0m \u001b[0;34m\u001b[0m\u001b[0m\n\u001b[0;32m---> 93\u001b[0;31m     \u001b[0;32mreturn\u001b[0m \u001b[0mcreate_block_manager_from_arrays\u001b[0m\u001b[0;34m(\u001b[0m\u001b[0marrays\u001b[0m\u001b[0;34m,\u001b[0m \u001b[0marr_names\u001b[0m\u001b[0;34m,\u001b[0m \u001b[0maxes\u001b[0m\u001b[0;34m)\u001b[0m\u001b[0;34m\u001b[0m\u001b[0;34m\u001b[0m\u001b[0m\n\u001b[0m\u001b[1;32m     94\u001b[0m \u001b[0;34m\u001b[0m\u001b[0m\n\u001b[1;32m     95\u001b[0m \u001b[0;34m\u001b[0m\u001b[0m\n",
      "\u001b[0;32m/usr/local/anaconda3/lib/python3.8/site-packages/pandas/core/internals/managers.py\u001b[0m in \u001b[0;36mcreate_block_manager_from_arrays\u001b[0;34m(arrays, names, axes)\u001b[0m\n\u001b[1;32m   1686\u001b[0m         \u001b[0;32mreturn\u001b[0m \u001b[0mmgr\u001b[0m\u001b[0;34m\u001b[0m\u001b[0;34m\u001b[0m\u001b[0m\n\u001b[1;32m   1687\u001b[0m     \u001b[0;32mexcept\u001b[0m \u001b[0mValueError\u001b[0m \u001b[0;32mas\u001b[0m \u001b[0me\u001b[0m\u001b[0;34m:\u001b[0m\u001b[0;34m\u001b[0m\u001b[0;34m\u001b[0m\u001b[0m\n\u001b[0;32m-> 1688\u001b[0;31m         \u001b[0;32mraise\u001b[0m \u001b[0mconstruction_error\u001b[0m\u001b[0;34m(\u001b[0m\u001b[0mlen\u001b[0m\u001b[0;34m(\u001b[0m\u001b[0marrays\u001b[0m\u001b[0;34m)\u001b[0m\u001b[0;34m,\u001b[0m \u001b[0marrays\u001b[0m\u001b[0;34m[\u001b[0m\u001b[0;36m0\u001b[0m\u001b[0;34m]\u001b[0m\u001b[0;34m.\u001b[0m\u001b[0mshape\u001b[0m\u001b[0;34m,\u001b[0m \u001b[0maxes\u001b[0m\u001b[0;34m,\u001b[0m \u001b[0me\u001b[0m\u001b[0;34m)\u001b[0m\u001b[0;34m\u001b[0m\u001b[0;34m\u001b[0m\u001b[0m\n\u001b[0m\u001b[1;32m   1689\u001b[0m \u001b[0;34m\u001b[0m\u001b[0m\n\u001b[1;32m   1690\u001b[0m \u001b[0;34m\u001b[0m\u001b[0m\n",
      "\u001b[0;32m/usr/local/anaconda3/lib/python3.8/site-packages/pandas/core/internals/managers.py\u001b[0m in \u001b[0;36mcreate_block_manager_from_arrays\u001b[0;34m(arrays, names, axes)\u001b[0m\n\u001b[1;32m   1682\u001b[0m     \u001b[0;32mtry\u001b[0m\u001b[0;34m:\u001b[0m\u001b[0;34m\u001b[0m\u001b[0;34m\u001b[0m\u001b[0m\n\u001b[1;32m   1683\u001b[0m         \u001b[0mblocks\u001b[0m \u001b[0;34m=\u001b[0m \u001b[0mform_blocks\u001b[0m\u001b[0;34m(\u001b[0m\u001b[0marrays\u001b[0m\u001b[0;34m,\u001b[0m \u001b[0mnames\u001b[0m\u001b[0;34m,\u001b[0m \u001b[0maxes\u001b[0m\u001b[0;34m)\u001b[0m\u001b[0;34m\u001b[0m\u001b[0;34m\u001b[0m\u001b[0m\n\u001b[0;32m-> 1684\u001b[0;31m         \u001b[0mmgr\u001b[0m \u001b[0;34m=\u001b[0m \u001b[0mBlockManager\u001b[0m\u001b[0;34m(\u001b[0m\u001b[0mblocks\u001b[0m\u001b[0;34m,\u001b[0m \u001b[0maxes\u001b[0m\u001b[0;34m)\u001b[0m\u001b[0;34m\u001b[0m\u001b[0;34m\u001b[0m\u001b[0m\n\u001b[0m\u001b[1;32m   1685\u001b[0m         \u001b[0mmgr\u001b[0m\u001b[0;34m.\u001b[0m\u001b[0m_consolidate_inplace\u001b[0m\u001b[0;34m(\u001b[0m\u001b[0;34m)\u001b[0m\u001b[0;34m\u001b[0m\u001b[0;34m\u001b[0m\u001b[0m\n\u001b[1;32m   1686\u001b[0m         \u001b[0;32mreturn\u001b[0m \u001b[0mmgr\u001b[0m\u001b[0;34m\u001b[0m\u001b[0;34m\u001b[0m\u001b[0m\n",
      "\u001b[0;32m/usr/local/anaconda3/lib/python3.8/site-packages/pandas/core/internals/managers.py\u001b[0m in \u001b[0;36m__init__\u001b[0;34m(self, blocks, axes, do_integrity_check)\u001b[0m\n\u001b[1;32m    147\u001b[0m \u001b[0;34m\u001b[0m\u001b[0m\n\u001b[1;32m    148\u001b[0m         \u001b[0;32mif\u001b[0m \u001b[0mdo_integrity_check\u001b[0m\u001b[0;34m:\u001b[0m\u001b[0;34m\u001b[0m\u001b[0;34m\u001b[0m\u001b[0m\n\u001b[0;32m--> 149\u001b[0;31m             \u001b[0mself\u001b[0m\u001b[0;34m.\u001b[0m\u001b[0m_verify_integrity\u001b[0m\u001b[0;34m(\u001b[0m\u001b[0;34m)\u001b[0m\u001b[0;34m\u001b[0m\u001b[0;34m\u001b[0m\u001b[0m\n\u001b[0m\u001b[1;32m    150\u001b[0m \u001b[0;34m\u001b[0m\u001b[0m\n\u001b[1;32m    151\u001b[0m         \u001b[0;31m# Populate known_consolidate, blknos, and blklocs lazily\u001b[0m\u001b[0;34m\u001b[0m\u001b[0;34m\u001b[0m\u001b[0;34m\u001b[0m\u001b[0m\n",
      "\u001b[0;32m/usr/local/anaconda3/lib/python3.8/site-packages/pandas/core/internals/managers.py\u001b[0m in \u001b[0;36m_verify_integrity\u001b[0;34m(self)\u001b[0m\n\u001b[1;32m    324\u001b[0m         \u001b[0;32mfor\u001b[0m \u001b[0mblock\u001b[0m \u001b[0;32min\u001b[0m \u001b[0mself\u001b[0m\u001b[0;34m.\u001b[0m\u001b[0mblocks\u001b[0m\u001b[0;34m:\u001b[0m\u001b[0;34m\u001b[0m\u001b[0;34m\u001b[0m\u001b[0m\n\u001b[1;32m    325\u001b[0m             \u001b[0;32mif\u001b[0m \u001b[0mblock\u001b[0m\u001b[0;34m.\u001b[0m\u001b[0mshape\u001b[0m\u001b[0;34m[\u001b[0m\u001b[0;36m1\u001b[0m\u001b[0;34m:\u001b[0m\u001b[0;34m]\u001b[0m \u001b[0;34m!=\u001b[0m \u001b[0mmgr_shape\u001b[0m\u001b[0;34m[\u001b[0m\u001b[0;36m1\u001b[0m\u001b[0;34m:\u001b[0m\u001b[0;34m]\u001b[0m\u001b[0;34m:\u001b[0m\u001b[0;34m\u001b[0m\u001b[0;34m\u001b[0m\u001b[0m\n\u001b[0;32m--> 326\u001b[0;31m                 \u001b[0;32mraise\u001b[0m \u001b[0mconstruction_error\u001b[0m\u001b[0;34m(\u001b[0m\u001b[0mtot_items\u001b[0m\u001b[0;34m,\u001b[0m \u001b[0mblock\u001b[0m\u001b[0;34m.\u001b[0m\u001b[0mshape\u001b[0m\u001b[0;34m[\u001b[0m\u001b[0;36m1\u001b[0m\u001b[0;34m:\u001b[0m\u001b[0;34m]\u001b[0m\u001b[0;34m,\u001b[0m \u001b[0mself\u001b[0m\u001b[0;34m.\u001b[0m\u001b[0maxes\u001b[0m\u001b[0;34m)\u001b[0m\u001b[0;34m\u001b[0m\u001b[0;34m\u001b[0m\u001b[0m\n\u001b[0m\u001b[1;32m    327\u001b[0m         \u001b[0;32mif\u001b[0m \u001b[0mlen\u001b[0m\u001b[0;34m(\u001b[0m\u001b[0mself\u001b[0m\u001b[0;34m.\u001b[0m\u001b[0mitems\u001b[0m\u001b[0;34m)\u001b[0m \u001b[0;34m!=\u001b[0m \u001b[0mtot_items\u001b[0m\u001b[0;34m:\u001b[0m\u001b[0;34m\u001b[0m\u001b[0;34m\u001b[0m\u001b[0m\n\u001b[1;32m    328\u001b[0m             raise AssertionError(\n",
      "\u001b[0;31mValueError\u001b[0m: Shape of passed values is (1, 2), indices imply (40054, 2)"
     ]
    }
   ],
   "source": [
    "ex.explore_bivariate(train, categorical_target, continuous_target, binary_vars, quant_vars)"
   ]
  },
  {
   "cell_type": "code",
   "execution_count": null,
   "metadata": {},
   "outputs": [],
   "source": []
  }
 ],
 "metadata": {
  "kernelspec": {
   "display_name": "Python 3",
   "language": "python",
   "name": "python3"
  },
  "language_info": {
   "codemirror_mode": {
    "name": "ipython",
    "version": 3
   },
   "file_extension": ".py",
   "mimetype": "text/x-python",
   "name": "python",
   "nbconvert_exporter": "python",
   "pygments_lexer": "ipython3",
   "version": "3.8.5"
  }
 },
 "nbformat": 4,
 "nbformat_minor": 4
}
