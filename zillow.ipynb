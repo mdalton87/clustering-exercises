{
 "cells": [
  {
   "cell_type": "code",
   "execution_count": 1,
   "metadata": {},
   "outputs": [],
   "source": [
    "# ignore warnings\n",
    "import warnings\n",
    "warnings.filterwarnings(\"ignore\")\n",
    "\n",
    "# Data getting, cleaning, and exploring\n",
    "import wrangle as w\n",
    "import evaluate as ev\n",
    "import explore as ex\n",
    "\n",
    "# Python without these is hard\n",
    "import pandas as pd\n",
    "import numpy as np\n",
    "from pydataset import data\n",
    "from scipy import stats\n",
    "\n",
    "# Machine Learning\n",
    "from sklearn.model_selection import train_test_split\n",
    "from sklearn.metrics import confusion_matrix\n",
    "import sklearn.preprocessing\n",
    "from sklearn.preprocessing import MinMaxScaler \n",
    "from sklearn.impute import SimpleImputer\n",
    "# Regression Modeling\n",
    "from sklearn.metrics import mean_squared_error,r2_score\n",
    "from sklearn.linear_model import LinearRegression, LassoLars, TweedieRegressor\n",
    "from sklearn.preprocessing import PolynomialFeatures\n",
    "\n",
    "# Visualization\n",
    "import matplotlib.pyplot as plt\n",
    "%matplotlib inline\n",
    "import seaborn as sns"
   ]
  },
  {
   "cell_type": "code",
   "execution_count": 2,
   "metadata": {},
   "outputs": [],
   "source": [
    "# w.get_zillow_data(cached=False)"
   ]
  },
  {
   "cell_type": "code",
   "execution_count": 3,
   "metadata": {},
   "outputs": [],
   "source": [
    "df = w.wrangle_zillow()"
   ]
  },
  {
   "cell_type": "code",
   "execution_count": 4,
   "metadata": {},
   "outputs": [],
   "source": [
    "# df.shape"
   ]
  },
  {
   "cell_type": "code",
   "execution_count": 5,
   "metadata": {},
   "outputs": [],
   "source": [
    "# df.parcelid.nunique()"
   ]
  },
  {
   "cell_type": "code",
   "execution_count": 6,
   "metadata": {},
   "outputs": [],
   "source": [
    "# df = df[df.latitude.notnull()]"
   ]
  },
  {
   "cell_type": "code",
   "execution_count": 7,
   "metadata": {},
   "outputs": [],
   "source": [
    "# df = df[df.longitude.notnull()]"
   ]
  },
  {
   "cell_type": "code",
   "execution_count": 8,
   "metadata": {},
   "outputs": [
    {
     "name": "stdout",
     "output_type": "stream",
     "text": [
      "Your selected dataframe has 21 columns and 71525 Rows.\n",
      "There are 0 columns that have NULL values.\n"
     ]
    },
    {
     "data": {
      "text/html": [
       "<div>\n",
       "<style scoped>\n",
       "    .dataframe tbody tr th:only-of-type {\n",
       "        vertical-align: middle;\n",
       "    }\n",
       "\n",
       "    .dataframe tbody tr th {\n",
       "        vertical-align: top;\n",
       "    }\n",
       "\n",
       "    .dataframe thead th {\n",
       "        text-align: right;\n",
       "    }\n",
       "</style>\n",
       "<table border=\"1\" class=\"dataframe\">\n",
       "  <thead>\n",
       "    <tr style=\"text-align: right;\">\n",
       "      <th></th>\n",
       "      <th>Zero Values</th>\n",
       "      <th>NULL Values</th>\n",
       "      <th>% of Total NULL Values</th>\n",
       "      <th>Total Zero's plus NULL Values</th>\n",
       "      <th>% Total Zero's plus NULL Values</th>\n",
       "      <th>Data Type</th>\n",
       "    </tr>\n",
       "  </thead>\n",
       "  <tbody>\n",
       "    <tr>\n",
       "      <th>parcelid</th>\n",
       "      <td>0</td>\n",
       "      <td>0</td>\n",
       "      <td>0.0</td>\n",
       "      <td>0</td>\n",
       "      <td>0.0</td>\n",
       "      <td>int64</td>\n",
       "    </tr>\n",
       "    <tr>\n",
       "      <th>region_id_county</th>\n",
       "      <td>0</td>\n",
       "      <td>0</td>\n",
       "      <td>0.0</td>\n",
       "      <td>0</td>\n",
       "      <td>0.0</td>\n",
       "      <td>float64</td>\n",
       "    </tr>\n",
       "    <tr>\n",
       "      <th>log_error</th>\n",
       "      <td>0</td>\n",
       "      <td>0</td>\n",
       "      <td>0.0</td>\n",
       "      <td>0</td>\n",
       "      <td>0.0</td>\n",
       "      <td>float64</td>\n",
       "    </tr>\n",
       "    <tr>\n",
       "      <th>tax_amount</th>\n",
       "      <td>0</td>\n",
       "      <td>0</td>\n",
       "      <td>0.0</td>\n",
       "      <td>0</td>\n",
       "      <td>0.0</td>\n",
       "      <td>float64</td>\n",
       "    </tr>\n",
       "    <tr>\n",
       "      <th>land_tax_value</th>\n",
       "      <td>0</td>\n",
       "      <td>0</td>\n",
       "      <td>0.0</td>\n",
       "      <td>0</td>\n",
       "      <td>0.0</td>\n",
       "      <td>float64</td>\n",
       "    </tr>\n",
       "    <tr>\n",
       "      <th>assessment_year</th>\n",
       "      <td>0</td>\n",
       "      <td>0</td>\n",
       "      <td>0.0</td>\n",
       "      <td>0</td>\n",
       "      <td>0.0</td>\n",
       "      <td>float64</td>\n",
       "    </tr>\n",
       "    <tr>\n",
       "      <th>tax_value</th>\n",
       "      <td>0</td>\n",
       "      <td>0</td>\n",
       "      <td>0.0</td>\n",
       "      <td>0</td>\n",
       "      <td>0.0</td>\n",
       "      <td>float64</td>\n",
       "    </tr>\n",
       "    <tr>\n",
       "      <th>struct_tax_value</th>\n",
       "      <td>0</td>\n",
       "      <td>0</td>\n",
       "      <td>0.0</td>\n",
       "      <td>0</td>\n",
       "      <td>0.0</td>\n",
       "      <td>float64</td>\n",
       "    </tr>\n",
       "    <tr>\n",
       "      <th>year_built</th>\n",
       "      <td>0</td>\n",
       "      <td>0</td>\n",
       "      <td>0.0</td>\n",
       "      <td>0</td>\n",
       "      <td>0.0</td>\n",
       "      <td>float64</td>\n",
       "    </tr>\n",
       "    <tr>\n",
       "      <th>unitcnt</th>\n",
       "      <td>0</td>\n",
       "      <td>0</td>\n",
       "      <td>0.0</td>\n",
       "      <td>0</td>\n",
       "      <td>0.0</td>\n",
       "      <td>float64</td>\n",
       "    </tr>\n",
       "    <tr>\n",
       "      <th>census_tract_and_block</th>\n",
       "      <td>0</td>\n",
       "      <td>0</td>\n",
       "      <td>0.0</td>\n",
       "      <td>0</td>\n",
       "      <td>0.0</td>\n",
       "      <td>float64</td>\n",
       "    </tr>\n",
       "    <tr>\n",
       "      <th>bathrooms</th>\n",
       "      <td>0</td>\n",
       "      <td>0</td>\n",
       "      <td>0.0</td>\n",
       "      <td>0</td>\n",
       "      <td>0.0</td>\n",
       "      <td>float64</td>\n",
       "    </tr>\n",
       "    <tr>\n",
       "      <th>prop_land_type_id</th>\n",
       "      <td>0</td>\n",
       "      <td>0</td>\n",
       "      <td>0.0</td>\n",
       "      <td>0</td>\n",
       "      <td>0.0</td>\n",
       "      <td>int64</td>\n",
       "    </tr>\n",
       "    <tr>\n",
       "      <th>prop_cnty_land_code</th>\n",
       "      <td>0</td>\n",
       "      <td>0</td>\n",
       "      <td>0.0</td>\n",
       "      <td>0</td>\n",
       "      <td>0.0</td>\n",
       "      <td>object</td>\n",
       "    </tr>\n",
       "    <tr>\n",
       "      <th>lot_sqft</th>\n",
       "      <td>0</td>\n",
       "      <td>0</td>\n",
       "      <td>0.0</td>\n",
       "      <td>0</td>\n",
       "      <td>0.0</td>\n",
       "      <td>float64</td>\n",
       "    </tr>\n",
       "    <tr>\n",
       "      <th>longitude</th>\n",
       "      <td>0</td>\n",
       "      <td>0</td>\n",
       "      <td>0.0</td>\n",
       "      <td>0</td>\n",
       "      <td>0.0</td>\n",
       "      <td>float64</td>\n",
       "    </tr>\n",
       "    <tr>\n",
       "      <th>latitude</th>\n",
       "      <td>0</td>\n",
       "      <td>0</td>\n",
       "      <td>0.0</td>\n",
       "      <td>0</td>\n",
       "      <td>0.0</td>\n",
       "      <td>float64</td>\n",
       "    </tr>\n",
       "    <tr>\n",
       "      <th>fips</th>\n",
       "      <td>0</td>\n",
       "      <td>0</td>\n",
       "      <td>0.0</td>\n",
       "      <td>0</td>\n",
       "      <td>0.0</td>\n",
       "      <td>int64</td>\n",
       "    </tr>\n",
       "    <tr>\n",
       "      <th>property_sqft</th>\n",
       "      <td>0</td>\n",
       "      <td>0</td>\n",
       "      <td>0.0</td>\n",
       "      <td>0</td>\n",
       "      <td>0.0</td>\n",
       "      <td>float64</td>\n",
       "    </tr>\n",
       "    <tr>\n",
       "      <th>bedrooms</th>\n",
       "      <td>0</td>\n",
       "      <td>0</td>\n",
       "      <td>0.0</td>\n",
       "      <td>0</td>\n",
       "      <td>0.0</td>\n",
       "      <td>float64</td>\n",
       "    </tr>\n",
       "    <tr>\n",
       "      <th>transaction_date</th>\n",
       "      <td>0</td>\n",
       "      <td>0</td>\n",
       "      <td>0.0</td>\n",
       "      <td>0</td>\n",
       "      <td>0.0</td>\n",
       "      <td>object</td>\n",
       "    </tr>\n",
       "  </tbody>\n",
       "</table>\n",
       "</div>"
      ],
      "text/plain": [
       "                        Zero Values  NULL Values  % of Total NULL Values  \\\n",
       "parcelid                          0            0                     0.0   \n",
       "region_id_county                  0            0                     0.0   \n",
       "log_error                         0            0                     0.0   \n",
       "tax_amount                        0            0                     0.0   \n",
       "land_tax_value                    0            0                     0.0   \n",
       "assessment_year                   0            0                     0.0   \n",
       "tax_value                         0            0                     0.0   \n",
       "struct_tax_value                  0            0                     0.0   \n",
       "year_built                        0            0                     0.0   \n",
       "unitcnt                           0            0                     0.0   \n",
       "census_tract_and_block            0            0                     0.0   \n",
       "bathrooms                         0            0                     0.0   \n",
       "prop_land_type_id                 0            0                     0.0   \n",
       "prop_cnty_land_code               0            0                     0.0   \n",
       "lot_sqft                          0            0                     0.0   \n",
       "longitude                         0            0                     0.0   \n",
       "latitude                          0            0                     0.0   \n",
       "fips                              0            0                     0.0   \n",
       "property_sqft                     0            0                     0.0   \n",
       "bedrooms                          0            0                     0.0   \n",
       "transaction_date                  0            0                     0.0   \n",
       "\n",
       "                        Total Zero's plus NULL Values  \\\n",
       "parcelid                                            0   \n",
       "region_id_county                                    0   \n",
       "log_error                                           0   \n",
       "tax_amount                                          0   \n",
       "land_tax_value                                      0   \n",
       "assessment_year                                     0   \n",
       "tax_value                                           0   \n",
       "struct_tax_value                                    0   \n",
       "year_built                                          0   \n",
       "unitcnt                                             0   \n",
       "census_tract_and_block                              0   \n",
       "bathrooms                                           0   \n",
       "prop_land_type_id                                   0   \n",
       "prop_cnty_land_code                                 0   \n",
       "lot_sqft                                            0   \n",
       "longitude                                           0   \n",
       "latitude                                            0   \n",
       "fips                                                0   \n",
       "property_sqft                                       0   \n",
       "bedrooms                                            0   \n",
       "transaction_date                                    0   \n",
       "\n",
       "                        % Total Zero's plus NULL Values Data Type  \n",
       "parcelid                                            0.0     int64  \n",
       "region_id_county                                    0.0   float64  \n",
       "log_error                                           0.0   float64  \n",
       "tax_amount                                          0.0   float64  \n",
       "land_tax_value                                      0.0   float64  \n",
       "assessment_year                                     0.0   float64  \n",
       "tax_value                                           0.0   float64  \n",
       "struct_tax_value                                    0.0   float64  \n",
       "year_built                                          0.0   float64  \n",
       "unitcnt                                             0.0   float64  \n",
       "census_tract_and_block                              0.0   float64  \n",
       "bathrooms                                           0.0   float64  \n",
       "prop_land_type_id                                   0.0     int64  \n",
       "prop_cnty_land_code                                 0.0    object  \n",
       "lot_sqft                                            0.0   float64  \n",
       "longitude                                           0.0   float64  \n",
       "latitude                                            0.0   float64  \n",
       "fips                                                0.0     int64  \n",
       "property_sqft                                       0.0   float64  \n",
       "bedrooms                                            0.0   float64  \n",
       "transaction_date                                    0.0    object  "
      ]
     },
     "execution_count": 8,
     "metadata": {},
     "output_type": "execute_result"
    }
   ],
   "source": [
    "ex.missing_zero_values_table(df)"
   ]
  },
  {
   "cell_type": "code",
   "execution_count": 9,
   "metadata": {},
   "outputs": [],
   "source": [
    "# missing_cols_df = pd.Series(data=df.isnull().sum(axis = 1).value_counts().sort_index(ascending=False))"
   ]
  },
  {
   "cell_type": "code",
   "execution_count": 10,
   "metadata": {},
   "outputs": [],
   "source": [
    "# missing_cols_df = pd.DataFrame(missing_cols_df)"
   ]
  },
  {
   "cell_type": "code",
   "execution_count": 11,
   "metadata": {},
   "outputs": [],
   "source": [
    "# missing_cols_df = missing_cols_df.reset_index()"
   ]
  },
  {
   "cell_type": "code",
   "execution_count": 12,
   "metadata": {},
   "outputs": [],
   "source": [
    "# missing_cols_df.columns = ['total_missing_cols','num_rows']"
   ]
  },
  {
   "cell_type": "code",
   "execution_count": 13,
   "metadata": {},
   "outputs": [],
   "source": [
    "# missing_cols_df['percent_cols_missing'] = round(100 * missing_cols_df.total_missing_cols / df.shape[1], 2)"
   ]
  },
  {
   "cell_type": "code",
   "execution_count": 14,
   "metadata": {},
   "outputs": [],
   "source": [
    "# missing_cols_df.head()"
   ]
  },
  {
   "cell_type": "code",
   "execution_count": 15,
   "metadata": {},
   "outputs": [],
   "source": [
    "# ex.missing_columns(df)"
   ]
  },
  {
   "cell_type": "code",
   "execution_count": 16,
   "metadata": {},
   "outputs": [],
   "source": [
    "# df.propertylandusetypeid.value_counts().sort_index()"
   ]
  },
  {
   "cell_type": "markdown",
   "metadata": {},
   "source": [
    "### propertylandusetypeid code meanings:\n",
    "- <span style=\"color:red\">red</span>: means that there are properties of this type in dataframe and are not \"single unit properties\"\n",
    "- <span style=\"color:green\">green</span>: are properties that are accepted as \"single unit properties\"\n",
    "- ~~strikeout~~: are property types that are not included in the dataframe\n",
    "\n",
    "    - <span style=\"color:red\">31\tCommercial/Office/Residential Mixed Used</span>\n",
    "    - ~~46\tMulti-Story Store~~\n",
    "    - ~~47\tStore/Office (Mixed Use)~~\n",
    "    - <span style=\"color:red\">246\tDuplex (2 Units, Any Combination)</span>\n",
    "    - <span style=\"color:red\">247\tTriplex (3 Units, Any Combination)</span>\n",
    "    - <span style=\"color:red\">248\tQuadruplex (4 Units, Any Combination)</span>\n",
    "    - <span style=\"color:green\">260\tResidential General</span>\n",
    "    - <span style=\"color:green\">261\tSingle Family Residential</span>\n",
    "    - ~~<span style=\"color:green\">262\tRural Residence</span>~~\n",
    "    - <span style=\"color:green\">263\tMobile Home</span>\n",
    "    - <span style=\"color:green\">264\tTownhouse</span>\n",
    "    - <span style=\"color:green\">265\tCluster Home</span>\n",
    "    - <span style=\"color:green\">266\tCondominium</span>\n",
    "    - <span style=\"color:green\">267\tCooperative</span>\n",
    "    - ~~<span style=\"color:green\">268\tRow House</span>~~\n",
    "    - <span style=\"color:red\">269\tPlanned Unit Development</span>\n",
    "    - ~~270\tResidential Common Area~~\n",
    "    - ~~271\tTimeshare~~\n",
    "    - ~~<span style=\"color:green\">273\tBungalow</span>~~\n",
    "    - ~~274\tZero Lot Line~~\n",
    "    - <span style=\"color:green\">275\tManufactured, Modular, Prefabricated Homes</span>\n",
    "    - ~~<span style=\"color:green\">276\tPatio Home</span>~~\n",
    "    - ~~<span style=\"color:green\">279\tInferred Single Family Residential</span>~~\n",
    "    - ~~290\tVacant Land - General~~\n",
    "    - ~~291\tResidential Vacant Land~~"
   ]
  },
  {
   "cell_type": "code",
   "execution_count": 17,
   "metadata": {},
   "outputs": [],
   "source": [
    "# df.propertylandusetypeid = df.propertylandusetypeid.astype(int)"
   ]
  },
  {
   "cell_type": "code",
   "execution_count": 18,
   "metadata": {},
   "outputs": [],
   "source": [
    "# # gave 'propertylandusetypeid' to variable x for ease, dropping propertylandusetypeid's that are not single unit properties\n",
    "# x='propertylandusetypeid'\n",
    "# df = df[df[x] != 31]\n",
    "# df = df[df[x] != 246]\n",
    "# df = df[df[x] != 247]\n",
    "# df = df[df[x] != 248]\n",
    "# df = df[df[x] != 269]"
   ]
  },
  {
   "cell_type": "code",
   "execution_count": 19,
   "metadata": {},
   "outputs": [],
   "source": [
    "# df.shape[0]"
   ]
  },
  {
   "cell_type": "code",
   "execution_count": 20,
   "metadata": {},
   "outputs": [],
   "source": [
    "# df.propertylandusetypeid.value_counts().sort_index()"
   ]
  },
  {
   "cell_type": "code",
   "execution_count": 21,
   "metadata": {},
   "outputs": [],
   "source": [
    "# df.unitcnt.value_counts()"
   ]
  },
  {
   "cell_type": "code",
   "execution_count": 22,
   "metadata": {},
   "outputs": [],
   "source": [
    "# df.unitcnt.isnull().sum()"
   ]
  },
  {
   "cell_type": "code",
   "execution_count": 23,
   "metadata": {},
   "outputs": [],
   "source": [
    "# fill unitcnt with 1 because these properties should be single unit properties\n",
    "\n",
    "# df.unitcnt.fillna(1, inplace=True)"
   ]
  },
  {
   "cell_type": "code",
   "execution_count": 24,
   "metadata": {},
   "outputs": [],
   "source": [
    "# df.unitcnt.isnull().sum()"
   ]
  },
  {
   "cell_type": "code",
   "execution_count": 25,
   "metadata": {},
   "outputs": [],
   "source": [
    "# df.unitcnt.value_counts()"
   ]
  },
  {
   "cell_type": "code",
   "execution_count": 26,
   "metadata": {},
   "outputs": [],
   "source": [
    "# drop any property listed less than or greater than 1 \n",
    "\n",
    "# df = df[df.unitcnt == 1]"
   ]
  },
  {
   "cell_type": "code",
   "execution_count": 27,
   "metadata": {},
   "outputs": [],
   "source": [
    "# df.unitcnt.value_counts()"
   ]
  },
  {
   "cell_type": "code",
   "execution_count": 28,
   "metadata": {},
   "outputs": [],
   "source": [
    "# df.shape"
   ]
  },
  {
   "cell_type": "code",
   "execution_count": 29,
   "metadata": {},
   "outputs": [],
   "source": [
    "# df = w.handle_missing_values(df, 0.6, 0.75)\n",
    "# df.shape"
   ]
  },
  {
   "cell_type": "code",
   "execution_count": 30,
   "metadata": {},
   "outputs": [],
   "source": [
    "# df.isnull().sum().sort_values(ascending=False)"
   ]
  },
  {
   "cell_type": "code",
   "execution_count": 31,
   "metadata": {},
   "outputs": [],
   "source": [
    "# dropcols = ['id','heatingorsystemtypeid','buildingqualitytypeid','propertyzoningdesc','heatingorsystemdesc','calculatedbathnbr','regionidzip','regionidcity']"
   ]
  },
  {
   "cell_type": "code",
   "execution_count": 32,
   "metadata": {},
   "outputs": [],
   "source": [
    "# df = df.drop(columns=dropcols)"
   ]
  },
  {
   "cell_type": "code",
   "execution_count": 33,
   "metadata": {},
   "outputs": [],
   "source": [
    "# df[df.taxamount.isnull()]"
   ]
  },
  {
   "cell_type": "code",
   "execution_count": 34,
   "metadata": {},
   "outputs": [],
   "source": [
    "# df[df.taxvaluedollarcnt.isnull()]"
   ]
  },
  {
   "cell_type": "code",
   "execution_count": 35,
   "metadata": {},
   "outputs": [],
   "source": [
    "# df = df[df.taxvaluedollarcnt.notnull()]"
   ]
  },
  {
   "cell_type": "code",
   "execution_count": 36,
   "metadata": {},
   "outputs": [],
   "source": [
    "# df.isnull().sum().sort_values(ascending=False)"
   ]
  },
  {
   "cell_type": "code",
   "execution_count": 37,
   "metadata": {},
   "outputs": [],
   "source": [
    "# df.structuretaxvaluedollarcnt.mean()"
   ]
  },
  {
   "cell_type": "code",
   "execution_count": 38,
   "metadata": {},
   "outputs": [],
   "source": [
    "# df.landtaxvaluedollarcnt.mean()"
   ]
  },
  {
   "cell_type": "code",
   "execution_count": 39,
   "metadata": {},
   "outputs": [],
   "source": [
    "# df.taxvaluedollarcnt.mean()"
   ]
  },
  {
   "cell_type": "code",
   "execution_count": 40,
   "metadata": {},
   "outputs": [],
   "source": [
    "# df.structuretaxvaluedollarcnt.mean() / df.landtaxvaluedollarcnt.mean()"
   ]
  },
  {
   "cell_type": "code",
   "execution_count": 41,
   "metadata": {},
   "outputs": [],
   "source": [
    "# df[df.structuretaxvaluedollarcnt.isnull()]"
   ]
  },
  {
   "cell_type": "markdown",
   "metadata": {},
   "source": [
    "### taxvaluedollarcnt = structuretaxvaluedollarcnt + landtaxvaluedollarcnt...  \n",
    "- dropping values b/c\n",
    "    - target feature if taxvaluedollarcnt and these values influence the target. 83 structure nulls\n",
    "    - taxamount will be dropped as well. 5 taxamount nulls\n",
    "    - so few values I am comfortable dropping"
   ]
  },
  {
   "cell_type": "code",
   "execution_count": 42,
   "metadata": {},
   "outputs": [],
   "source": [
    "# df = df[df.structuretaxvaluedollarcnt.notnull()]\n",
    "# df.shape"
   ]
  },
  {
   "cell_type": "code",
   "execution_count": 43,
   "metadata": {},
   "outputs": [],
   "source": [
    "# df = df[df.taxamount.notnull()]\n",
    "# df.shape"
   ]
  },
  {
   "cell_type": "code",
   "execution_count": 44,
   "metadata": {},
   "outputs": [],
   "source": [
    "# df.yearbuilt.describe()\n"
   ]
  },
  {
   "cell_type": "code",
   "execution_count": 45,
   "metadata": {},
   "outputs": [],
   "source": [
    "# knn b/c close neighborhoods go up at similar dates\n",
    "# will use yearbuilt, lat, long, fips\n",
    "# df.fips = df.fips.astype(int)\n",
    "# df.fips.dtype"
   ]
  },
  {
   "cell_type": "code",
   "execution_count": 46,
   "metadata": {},
   "outputs": [],
   "source": [
    "# df.isnull().sum()"
   ]
  },
  {
   "cell_type": "code",
   "execution_count": 47,
   "metadata": {},
   "outputs": [],
   "source": [
    "# from sklearn.impute import KNNImputer\n",
    "\n",
    "# #Use numeric columns that you want to use for imputation\n",
    "# knn_cols_df = df[['yearbuilt','latitude','longitude','fips']]\n",
    "# features = ['yearbuilt','latitude','longitude','fips']\n",
    "# # define the thing\n",
    "# imputer = KNNImputer(n_neighbors=4)\n",
    "\n",
    "# # fit the thing (or fit and use with fit_transform) only on train!\n",
    "# imputed = imputer.fit_transform(knn_cols_df)\n",
    "# imputed"
   ]
  },
  {
   "cell_type": "code",
   "execution_count": 48,
   "metadata": {},
   "outputs": [],
   "source": [
    "# imputed = pd.DataFrame(imputed, index = df.index, dtype=int)\n",
    "# imputed.head()"
   ]
  },
  {
   "cell_type": "code",
   "execution_count": 49,
   "metadata": {},
   "outputs": [],
   "source": [
    "# df['yearbuilt'] = imputed[[0]]"
   ]
  },
  {
   "cell_type": "code",
   "execution_count": 50,
   "metadata": {},
   "outputs": [],
   "source": [
    "# df = w.impute_knn(df, features, 4)"
   ]
  },
  {
   "cell_type": "code",
   "execution_count": 51,
   "metadata": {},
   "outputs": [],
   "source": [
    "# df.isnull().sum()"
   ]
  },
  {
   "cell_type": "code",
   "execution_count": 52,
   "metadata": {},
   "outputs": [],
   "source": [
    "# df.lotsizesquarefeet.describe()"
   ]
  },
  {
   "cell_type": "code",
   "execution_count": 53,
   "metadata": {},
   "outputs": [],
   "source": [
    "# #Use numeric columns that you want to use for imputation\n",
    "# knn_cols_df = df[['lotsizesquarefeet','latitude','longitude','fips','calculatedfinishedsquarefeet']]\n",
    "# features = ['lotsizesquarefeet','latitude','longitude','fips','calculatedfinishedsquarefeet']\n",
    "# # define the thing\n",
    "# imputer = KNNImputer(n_neighbors=4)\n",
    "\n",
    "# # fit the thing (or fit and use with fit_transform) only on train!\n",
    "# imputed = imputer.fit_transform(knn_cols_df)\n",
    "# imputed"
   ]
  },
  {
   "cell_type": "code",
   "execution_count": 54,
   "metadata": {},
   "outputs": [],
   "source": [
    "# imputed = pd.DataFrame(imputed, index = df.index, dtype=int)\n",
    "# imputed.head()"
   ]
  },
  {
   "cell_type": "code",
   "execution_count": 55,
   "metadata": {},
   "outputs": [],
   "source": [
    "# df['lotsizesquarefeet'] = imputed[[0]]"
   ]
  },
  {
   "cell_type": "code",
   "execution_count": 56,
   "metadata": {},
   "outputs": [],
   "source": [
    "# df = w.impute_knn(df, features, 4)"
   ]
  },
  {
   "cell_type": "code",
   "execution_count": 57,
   "metadata": {},
   "outputs": [],
   "source": [
    "# df = df[df.calculatedfinishedsquarefeet.notnull()]"
   ]
  },
  {
   "cell_type": "code",
   "execution_count": 58,
   "metadata": {},
   "outputs": [],
   "source": [
    "# df.isnull().sum()"
   ]
  },
  {
   "cell_type": "code",
   "execution_count": 59,
   "metadata": {},
   "outputs": [],
   "source": [
    "# dropcols = ['finishedsquarefeet12','fullbathcnt','censustractandblock','roomcnt']"
   ]
  },
  {
   "cell_type": "code",
   "execution_count": 60,
   "metadata": {},
   "outputs": [],
   "source": [
    "# df = df.drop(columns=dropcols)"
   ]
  },
  {
   "cell_type": "code",
   "execution_count": 61,
   "metadata": {},
   "outputs": [],
   "source": [
    "# df = df[df.bedroomcnt != 0]\n",
    "# df = df[df.bathroomcnt != 0]"
   ]
  },
  {
   "cell_type": "code",
   "execution_count": 62,
   "metadata": {},
   "outputs": [],
   "source": [
    "# ex.missing_zero_values_table(df)"
   ]
  },
  {
   "cell_type": "code",
   "execution_count": 63,
   "metadata": {},
   "outputs": [
    {
     "data": {
      "text/plain": [
       "['parcelid',\n",
       " 'bathrooms',\n",
       " 'bedrooms',\n",
       " 'property_sqft',\n",
       " 'fips',\n",
       " 'latitude',\n",
       " 'longitude',\n",
       " 'lot_sqft',\n",
       " 'prop_cnty_land_code',\n",
       " 'prop_land_type_id',\n",
       " 'census_tract_and_block',\n",
       " 'region_id_county',\n",
       " 'unitcnt',\n",
       " 'year_built',\n",
       " 'struct_tax_value',\n",
       " 'tax_value',\n",
       " 'assessment_year',\n",
       " 'land_tax_value',\n",
       " 'tax_amount',\n",
       " 'log_error',\n",
       " 'transaction_date']"
      ]
     },
     "execution_count": 63,
     "metadata": {},
     "output_type": "execute_result"
    }
   ],
   "source": [
    "list(df.columns)"
   ]
  },
  {
   "cell_type": "code",
   "execution_count": 64,
   "metadata": {},
   "outputs": [],
   "source": [
    "# df.columns = ['parcelid', 'bathrooms', 'bedrooms', 'property_sqft', 'fips', 'latitude', 'longitude', 'lot_sqft', 'prop_cnty_land_code', 'prop_land_type_id', 'census_tract_and_block', 'region_id_county', 'unitcnt', 'year_built', 'struct_tax_value', 'tax_value', 'assessment_year', 'land_tax_value', 'tax_amount', 'log_error', 'transaction_date']"
   ]
  },
  {
   "cell_type": "markdown",
   "metadata": {},
   "source": [
    "# Mall Customers database"
   ]
  },
  {
   "cell_type": "code",
   "execution_count": 65,
   "metadata": {},
   "outputs": [],
   "source": [
    "# df = w.get_mall_data(cached=True)"
   ]
  },
  {
   "cell_type": "code",
   "execution_count": 66,
   "metadata": {},
   "outputs": [
    {
     "data": {
      "text/html": [
       "<div>\n",
       "<style scoped>\n",
       "    .dataframe tbody tr th:only-of-type {\n",
       "        vertical-align: middle;\n",
       "    }\n",
       "\n",
       "    .dataframe tbody tr th {\n",
       "        vertical-align: top;\n",
       "    }\n",
       "\n",
       "    .dataframe thead th {\n",
       "        text-align: right;\n",
       "    }\n",
       "</style>\n",
       "<table border=\"1\" class=\"dataframe\">\n",
       "  <thead>\n",
       "    <tr style=\"text-align: right;\">\n",
       "      <th></th>\n",
       "      <th>count</th>\n",
       "      <th>mean</th>\n",
       "      <th>std</th>\n",
       "      <th>min</th>\n",
       "      <th>25%</th>\n",
       "      <th>50%</th>\n",
       "      <th>75%</th>\n",
       "      <th>max</th>\n",
       "    </tr>\n",
       "  </thead>\n",
       "  <tbody>\n",
       "    <tr>\n",
       "      <th>parcelid</th>\n",
       "      <td>71525.0</td>\n",
       "      <td>1.305067e+07</td>\n",
       "      <td>3.100469e+06</td>\n",
       "      <td>1.071186e+07</td>\n",
       "      <td>1.153776e+07</td>\n",
       "      <td>1.259015e+07</td>\n",
       "      <td>1.427129e+07</td>\n",
       "      <td>1.676560e+08</td>\n",
       "    </tr>\n",
       "    <tr>\n",
       "      <th>bathrooms</th>\n",
       "      <td>71525.0</td>\n",
       "      <td>2.270654e+00</td>\n",
       "      <td>9.418737e-01</td>\n",
       "      <td>1.000000e+00</td>\n",
       "      <td>2.000000e+00</td>\n",
       "      <td>2.000000e+00</td>\n",
       "      <td>3.000000e+00</td>\n",
       "      <td>1.300000e+01</td>\n",
       "    </tr>\n",
       "    <tr>\n",
       "      <th>bedrooms</th>\n",
       "      <td>71525.0</td>\n",
       "      <td>3.016777e+00</td>\n",
       "      <td>1.003892e+00</td>\n",
       "      <td>1.000000e+00</td>\n",
       "      <td>2.000000e+00</td>\n",
       "      <td>3.000000e+00</td>\n",
       "      <td>4.000000e+00</td>\n",
       "      <td>1.100000e+01</td>\n",
       "    </tr>\n",
       "    <tr>\n",
       "      <th>property_sqft</th>\n",
       "      <td>71525.0</td>\n",
       "      <td>1.751998e+03</td>\n",
       "      <td>9.277881e+02</td>\n",
       "      <td>1.520000e+02</td>\n",
       "      <td>1.166000e+03</td>\n",
       "      <td>1.512000e+03</td>\n",
       "      <td>2.064000e+03</td>\n",
       "      <td>2.192900e+04</td>\n",
       "    </tr>\n",
       "    <tr>\n",
       "      <th>fips</th>\n",
       "      <td>71525.0</td>\n",
       "      <td>6.049542e+03</td>\n",
       "      <td>2.114287e+01</td>\n",
       "      <td>6.037000e+03</td>\n",
       "      <td>6.037000e+03</td>\n",
       "      <td>6.037000e+03</td>\n",
       "      <td>6.059000e+03</td>\n",
       "      <td>6.111000e+03</td>\n",
       "    </tr>\n",
       "    <tr>\n",
       "      <th>latitude</th>\n",
       "      <td>71525.0</td>\n",
       "      <td>3.400564e+07</td>\n",
       "      <td>2.696072e+05</td>\n",
       "      <td>3.333953e+07</td>\n",
       "      <td>3.380540e+07</td>\n",
       "      <td>3.401872e+07</td>\n",
       "      <td>3.417765e+07</td>\n",
       "      <td>3.481877e+07</td>\n",
       "    </tr>\n",
       "    <tr>\n",
       "      <th>longitude</th>\n",
       "      <td>71525.0</td>\n",
       "      <td>-1.181987e+08</td>\n",
       "      <td>3.654758e+05</td>\n",
       "      <td>-1.194754e+08</td>\n",
       "      <td>-1.184180e+08</td>\n",
       "      <td>-1.181683e+08</td>\n",
       "      <td>-1.179156e+08</td>\n",
       "      <td>-1.175546e+08</td>\n",
       "    </tr>\n",
       "    <tr>\n",
       "      <th>lot_sqft</th>\n",
       "      <td>71525.0</td>\n",
       "      <td>2.849199e+04</td>\n",
       "      <td>1.202060e+05</td>\n",
       "      <td>2.360000e+02</td>\n",
       "      <td>5.542000e+03</td>\n",
       "      <td>7.150000e+03</td>\n",
       "      <td>1.132100e+04</td>\n",
       "      <td>6.971010e+06</td>\n",
       "    </tr>\n",
       "    <tr>\n",
       "      <th>prop_land_type_id</th>\n",
       "      <td>71525.0</td>\n",
       "      <td>2.623575e+02</td>\n",
       "      <td>2.232803e+00</td>\n",
       "      <td>2.600000e+02</td>\n",
       "      <td>2.610000e+02</td>\n",
       "      <td>2.610000e+02</td>\n",
       "      <td>2.660000e+02</td>\n",
       "      <td>2.750000e+02</td>\n",
       "    </tr>\n",
       "    <tr>\n",
       "      <th>census_tract_and_block</th>\n",
       "      <td>71525.0</td>\n",
       "      <td>6.049842e+07</td>\n",
       "      <td>2.098451e+05</td>\n",
       "      <td>6.037101e+07</td>\n",
       "      <td>6.037400e+07</td>\n",
       "      <td>6.037621e+07</td>\n",
       "      <td>6.059052e+07</td>\n",
       "      <td>6.111009e+07</td>\n",
       "    </tr>\n",
       "    <tr>\n",
       "      <th>region_id_county</th>\n",
       "      <td>71525.0</td>\n",
       "      <td>2.498564e+03</td>\n",
       "      <td>8.134596e+02</td>\n",
       "      <td>1.286000e+03</td>\n",
       "      <td>1.286000e+03</td>\n",
       "      <td>3.101000e+03</td>\n",
       "      <td>3.101000e+03</td>\n",
       "      <td>3.101000e+03</td>\n",
       "    </tr>\n",
       "    <tr>\n",
       "      <th>unitcnt</th>\n",
       "      <td>71525.0</td>\n",
       "      <td>1.000000e+00</td>\n",
       "      <td>0.000000e+00</td>\n",
       "      <td>1.000000e+00</td>\n",
       "      <td>1.000000e+00</td>\n",
       "      <td>1.000000e+00</td>\n",
       "      <td>1.000000e+00</td>\n",
       "      <td>1.000000e+00</td>\n",
       "    </tr>\n",
       "    <tr>\n",
       "      <th>year_built</th>\n",
       "      <td>71525.0</td>\n",
       "      <td>1.969361e+03</td>\n",
       "      <td>2.304227e+01</td>\n",
       "      <td>1.878000e+03</td>\n",
       "      <td>1.954000e+03</td>\n",
       "      <td>1.970000e+03</td>\n",
       "      <td>1.987000e+03</td>\n",
       "      <td>2.016000e+03</td>\n",
       "    </tr>\n",
       "    <tr>\n",
       "      <th>struct_tax_value</th>\n",
       "      <td>71525.0</td>\n",
       "      <td>1.877392e+05</td>\n",
       "      <td>2.265514e+05</td>\n",
       "      <td>4.400000e+01</td>\n",
       "      <td>8.358300e+04</td>\n",
       "      <td>1.348870e+05</td>\n",
       "      <td>2.160000e+05</td>\n",
       "      <td>9.164901e+06</td>\n",
       "    </tr>\n",
       "    <tr>\n",
       "      <th>tax_value</th>\n",
       "      <td>71525.0</td>\n",
       "      <td>4.871847e+05</td>\n",
       "      <td>6.291532e+05</td>\n",
       "      <td>3.254000e+03</td>\n",
       "      <td>2.047930e+05</td>\n",
       "      <td>3.562190e+05</td>\n",
       "      <td>5.665040e+05</td>\n",
       "      <td>2.538125e+07</td>\n",
       "    </tr>\n",
       "    <tr>\n",
       "      <th>assessment_year</th>\n",
       "      <td>71525.0</td>\n",
       "      <td>2.016000e+03</td>\n",
       "      <td>0.000000e+00</td>\n",
       "      <td>2.016000e+03</td>\n",
       "      <td>2.016000e+03</td>\n",
       "      <td>2.016000e+03</td>\n",
       "      <td>2.016000e+03</td>\n",
       "      <td>2.016000e+03</td>\n",
       "    </tr>\n",
       "    <tr>\n",
       "      <th>land_tax_value</th>\n",
       "      <td>71525.0</td>\n",
       "      <td>2.994455e+05</td>\n",
       "      <td>4.578541e+05</td>\n",
       "      <td>1.610000e+02</td>\n",
       "      <td>8.361900e+04</td>\n",
       "      <td>2.033950e+05</td>\n",
       "      <td>3.670350e+05</td>\n",
       "      <td>2.233550e+07</td>\n",
       "    </tr>\n",
       "    <tr>\n",
       "      <th>tax_amount</th>\n",
       "      <td>71525.0</td>\n",
       "      <td>5.937749e+03</td>\n",
       "      <td>7.308829e+03</td>\n",
       "      <td>1.992000e+01</td>\n",
       "      <td>2.682820e+03</td>\n",
       "      <td>4.400180e+03</td>\n",
       "      <td>6.842060e+03</td>\n",
       "      <td>2.909981e+05</td>\n",
       "    </tr>\n",
       "    <tr>\n",
       "      <th>log_error</th>\n",
       "      <td>71525.0</td>\n",
       "      <td>1.710914e-02</td>\n",
       "      <td>1.663727e-01</td>\n",
       "      <td>-4.655420e+00</td>\n",
       "      <td>-2.340530e-02</td>\n",
       "      <td>6.755454e-03</td>\n",
       "      <td>3.854178e-02</td>\n",
       "      <td>5.262999e+00</td>\n",
       "    </tr>\n",
       "  </tbody>\n",
       "</table>\n",
       "</div>"
      ],
      "text/plain": [
       "                          count          mean           std           min  \\\n",
       "parcelid                71525.0  1.305067e+07  3.100469e+06  1.071186e+07   \n",
       "bathrooms               71525.0  2.270654e+00  9.418737e-01  1.000000e+00   \n",
       "bedrooms                71525.0  3.016777e+00  1.003892e+00  1.000000e+00   \n",
       "property_sqft           71525.0  1.751998e+03  9.277881e+02  1.520000e+02   \n",
       "fips                    71525.0  6.049542e+03  2.114287e+01  6.037000e+03   \n",
       "latitude                71525.0  3.400564e+07  2.696072e+05  3.333953e+07   \n",
       "longitude               71525.0 -1.181987e+08  3.654758e+05 -1.194754e+08   \n",
       "lot_sqft                71525.0  2.849199e+04  1.202060e+05  2.360000e+02   \n",
       "prop_land_type_id       71525.0  2.623575e+02  2.232803e+00  2.600000e+02   \n",
       "census_tract_and_block  71525.0  6.049842e+07  2.098451e+05  6.037101e+07   \n",
       "region_id_county        71525.0  2.498564e+03  8.134596e+02  1.286000e+03   \n",
       "unitcnt                 71525.0  1.000000e+00  0.000000e+00  1.000000e+00   \n",
       "year_built              71525.0  1.969361e+03  2.304227e+01  1.878000e+03   \n",
       "struct_tax_value        71525.0  1.877392e+05  2.265514e+05  4.400000e+01   \n",
       "tax_value               71525.0  4.871847e+05  6.291532e+05  3.254000e+03   \n",
       "assessment_year         71525.0  2.016000e+03  0.000000e+00  2.016000e+03   \n",
       "land_tax_value          71525.0  2.994455e+05  4.578541e+05  1.610000e+02   \n",
       "tax_amount              71525.0  5.937749e+03  7.308829e+03  1.992000e+01   \n",
       "log_error               71525.0  1.710914e-02  1.663727e-01 -4.655420e+00   \n",
       "\n",
       "                                 25%           50%           75%           max  \n",
       "parcelid                1.153776e+07  1.259015e+07  1.427129e+07  1.676560e+08  \n",
       "bathrooms               2.000000e+00  2.000000e+00  3.000000e+00  1.300000e+01  \n",
       "bedrooms                2.000000e+00  3.000000e+00  4.000000e+00  1.100000e+01  \n",
       "property_sqft           1.166000e+03  1.512000e+03  2.064000e+03  2.192900e+04  \n",
       "fips                    6.037000e+03  6.037000e+03  6.059000e+03  6.111000e+03  \n",
       "latitude                3.380540e+07  3.401872e+07  3.417765e+07  3.481877e+07  \n",
       "longitude              -1.184180e+08 -1.181683e+08 -1.179156e+08 -1.175546e+08  \n",
       "lot_sqft                5.542000e+03  7.150000e+03  1.132100e+04  6.971010e+06  \n",
       "prop_land_type_id       2.610000e+02  2.610000e+02  2.660000e+02  2.750000e+02  \n",
       "census_tract_and_block  6.037400e+07  6.037621e+07  6.059052e+07  6.111009e+07  \n",
       "region_id_county        1.286000e+03  3.101000e+03  3.101000e+03  3.101000e+03  \n",
       "unitcnt                 1.000000e+00  1.000000e+00  1.000000e+00  1.000000e+00  \n",
       "year_built              1.954000e+03  1.970000e+03  1.987000e+03  2.016000e+03  \n",
       "struct_tax_value        8.358300e+04  1.348870e+05  2.160000e+05  9.164901e+06  \n",
       "tax_value               2.047930e+05  3.562190e+05  5.665040e+05  2.538125e+07  \n",
       "assessment_year         2.016000e+03  2.016000e+03  2.016000e+03  2.016000e+03  \n",
       "land_tax_value          8.361900e+04  2.033950e+05  3.670350e+05  2.233550e+07  \n",
       "tax_amount              2.682820e+03  4.400180e+03  6.842060e+03  2.909981e+05  \n",
       "log_error              -2.340530e-02  6.755454e-03  3.854178e-02  5.262999e+00  "
      ]
     },
     "execution_count": 66,
     "metadata": {},
     "output_type": "execute_result"
    }
   ],
   "source": [
    "df.describe().T"
   ]
  },
  {
   "cell_type": "code",
   "execution_count": 67,
   "metadata": {},
   "outputs": [
    {
     "data": {
      "text/plain": [
       "parcelid                  0\n",
       "bathrooms                 0\n",
       "bedrooms                  0\n",
       "property_sqft             0\n",
       "fips                      0\n",
       "latitude                  0\n",
       "longitude                 0\n",
       "lot_sqft                  0\n",
       "prop_cnty_land_code       0\n",
       "prop_land_type_id         0\n",
       "census_tract_and_block    0\n",
       "region_id_county          0\n",
       "unitcnt                   0\n",
       "year_built                0\n",
       "struct_tax_value          0\n",
       "tax_value                 0\n",
       "assessment_year           0\n",
       "land_tax_value            0\n",
       "tax_amount                0\n",
       "log_error                 0\n",
       "transaction_date          0\n",
       "dtype: int64"
      ]
     },
     "execution_count": 67,
     "metadata": {},
     "output_type": "execute_result"
    }
   ],
   "source": [
    "df.isnull().sum()"
   ]
  },
  {
   "cell_type": "code",
   "execution_count": 68,
   "metadata": {},
   "outputs": [
    {
     "name": "stdout",
     "output_type": "stream",
     "text": [
      "<class 'pandas.core.frame.DataFrame'>\n",
      "Int64Index: 71525 entries, 0 to 77407\n",
      "Data columns (total 21 columns):\n",
      " #   Column                  Non-Null Count  Dtype  \n",
      "---  ------                  --------------  -----  \n",
      " 0   parcelid                71525 non-null  int64  \n",
      " 1   bathrooms               71525 non-null  float64\n",
      " 2   bedrooms                71525 non-null  float64\n",
      " 3   property_sqft           71525 non-null  float64\n",
      " 4   fips                    71525 non-null  int64  \n",
      " 5   latitude                71525 non-null  float64\n",
      " 6   longitude               71525 non-null  float64\n",
      " 7   lot_sqft                71525 non-null  float64\n",
      " 8   prop_cnty_land_code     71525 non-null  object \n",
      " 9   prop_land_type_id       71525 non-null  int64  \n",
      " 10  census_tract_and_block  71525 non-null  float64\n",
      " 11  region_id_county        71525 non-null  float64\n",
      " 12  unitcnt                 71525 non-null  float64\n",
      " 13  year_built              71525 non-null  float64\n",
      " 14  struct_tax_value        71525 non-null  float64\n",
      " 15  tax_value               71525 non-null  float64\n",
      " 16  assessment_year         71525 non-null  float64\n",
      " 17  land_tax_value          71525 non-null  float64\n",
      " 18  tax_amount              71525 non-null  float64\n",
      " 19  log_error               71525 non-null  float64\n",
      " 20  transaction_date        71525 non-null  object \n",
      "dtypes: float64(16), int64(3), object(2)\n",
      "memory usage: 12.0+ MB\n"
     ]
    }
   ],
   "source": [
    "df.info()"
   ]
  },
  {
   "cell_type": "code",
   "execution_count": 69,
   "metadata": {},
   "outputs": [],
   "source": [
    "# df = w.remove_outliers(df, 'annual_income', 1.5)"
   ]
  },
  {
   "cell_type": "code",
   "execution_count": 70,
   "metadata": {},
   "outputs": [],
   "source": [
    "# df = pd.get_dummies(df, columns=['gender'], drop_first=True)"
   ]
  },
  {
   "cell_type": "code",
   "execution_count": 71,
   "metadata": {},
   "outputs": [],
   "source": [
    "# df.head()"
   ]
  },
  {
   "cell_type": "code",
   "execution_count": 72,
   "metadata": {},
   "outputs": [],
   "source": [
    "# train, validate, test, X_train, y_train, X_validate, y_validate, X_test, y_test = w.train_validate_test_split(df, 'annual_income', 42)"
   ]
  },
  {
   "cell_type": "code",
   "execution_count": 73,
   "metadata": {},
   "outputs": [],
   "source": [
    "# object_cols = w.get_object_cols(X_train)\n",
    "# numeric_cols = w.get_numeric_X_cols(X_train, object_cols)"
   ]
  },
  {
   "cell_type": "code",
   "execution_count": 74,
   "metadata": {},
   "outputs": [],
   "source": [
    "# X_train_scaled, X_validate_scaled, X_test_scaled = w.min_max_scale(X_train, X_validate, X_test, numeric_cols)"
   ]
  },
  {
   "cell_type": "code",
   "execution_count": 75,
   "metadata": {},
   "outputs": [],
   "source": [
    "train, validate, test, X_train, y_train, X_validate, y_validate, X_test, y_test, X_train_scaled, X_validate_scaled, X_test_scaled = w.wrangle_mall()\n"
   ]
  }
 ],
 "metadata": {
  "kernelspec": {
   "display_name": "Python 3",
   "language": "python",
   "name": "python3"
  },
  "language_info": {
   "codemirror_mode": {
    "name": "ipython",
    "version": 3
   },
   "file_extension": ".py",
   "mimetype": "text/x-python",
   "name": "python",
   "nbconvert_exporter": "python",
   "pygments_lexer": "ipython3",
   "version": "3.8.5"
  }
 },
 "nbformat": 4,
 "nbformat_minor": 4
}
