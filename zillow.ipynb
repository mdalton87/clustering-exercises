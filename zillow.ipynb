{
 "cells": [
  {
   "cell_type": "code",
   "execution_count": 1,
   "metadata": {},
   "outputs": [],
   "source": [
    "# ignore warnings\n",
    "import warnings\n",
    "warnings.filterwarnings(\"ignore\")\n",
    "\n",
    "# Data getting, cleaning, and exploring\n",
    "import wrangle as w\n",
    "import evaluate as ev\n",
    "import explore as ex\n",
    "\n",
    "# Python without these is hard\n",
    "import pandas as pd\n",
    "import numpy as np\n",
    "from pydataset import data\n",
    "from scipy import stats\n",
    "\n",
    "# Machine Learning\n",
    "from sklearn.model_selection import train_test_split\n",
    "from sklearn.metrics import confusion_matrix\n",
    "import sklearn.preprocessing\n",
    "from sklearn.preprocessing import MinMaxScaler \n",
    "from sklearn.impute import SimpleImputer\n",
    "# Regression Modeling\n",
    "from sklearn.metrics import mean_squared_error,r2_score\n",
    "from sklearn.linear_model import LinearRegression, LassoLars, TweedieRegressor\n",
    "from sklearn.preprocessing import PolynomialFeatures\n",
    "\n",
    "# Visualization\n",
    "import matplotlib.pyplot as plt\n",
    "%matplotlib inline\n",
    "import seaborn as sns"
   ]
  },
  {
   "cell_type": "code",
   "execution_count": 2,
   "metadata": {},
   "outputs": [],
   "source": [
    "# w.get_zillow_data(cached=False)"
   ]
  },
  {
   "cell_type": "code",
   "execution_count": 3,
   "metadata": {},
   "outputs": [],
   "source": [
    "df = w.wrangle_zillow()"
   ]
  },
  {
   "cell_type": "code",
   "execution_count": 4,
   "metadata": {},
   "outputs": [],
   "source": [
    "# df.shape"
   ]
  },
  {
   "cell_type": "code",
   "execution_count": 5,
   "metadata": {},
   "outputs": [],
   "source": [
    "# df.parcelid.nunique()"
   ]
  },
  {
   "cell_type": "code",
   "execution_count": 6,
   "metadata": {},
   "outputs": [],
   "source": [
    "# df = df[df.latitude.notnull()]"
   ]
  },
  {
   "cell_type": "code",
   "execution_count": 7,
   "metadata": {},
   "outputs": [],
   "source": [
    "# df = df[df.longitude.notnull()]"
   ]
  },
  {
   "cell_type": "code",
   "execution_count": 8,
   "metadata": {},
   "outputs": [
    {
     "name": "stdout",
     "output_type": "stream",
     "text": [
      "Your selected dataframe has 21 columns and 71525 Rows.\n",
      "There are 0 columns that have NULL values.\n"
     ]
    },
    {
     "data": {
      "text/html": [
       "<div>\n",
       "<style scoped>\n",
       "    .dataframe tbody tr th:only-of-type {\n",
       "        vertical-align: middle;\n",
       "    }\n",
       "\n",
       "    .dataframe tbody tr th {\n",
       "        vertical-align: top;\n",
       "    }\n",
       "\n",
       "    .dataframe thead th {\n",
       "        text-align: right;\n",
       "    }\n",
       "</style>\n",
       "<table border=\"1\" class=\"dataframe\">\n",
       "  <thead>\n",
       "    <tr style=\"text-align: right;\">\n",
       "      <th></th>\n",
       "      <th>Zero Values</th>\n",
       "      <th>NULL Values</th>\n",
       "      <th>% of Total NULL Values</th>\n",
       "      <th>Total Zero's plus NULL Values</th>\n",
       "      <th>% Total Zero's plus NULL Values</th>\n",
       "      <th>Data Type</th>\n",
       "    </tr>\n",
       "  </thead>\n",
       "  <tbody>\n",
       "    <tr>\n",
       "      <th>parcelid</th>\n",
       "      <td>0</td>\n",
       "      <td>0</td>\n",
       "      <td>0.0</td>\n",
       "      <td>0</td>\n",
       "      <td>0.0</td>\n",
       "      <td>int64</td>\n",
       "    </tr>\n",
       "    <tr>\n",
       "      <th>region_id_county</th>\n",
       "      <td>0</td>\n",
       "      <td>0</td>\n",
       "      <td>0.0</td>\n",
       "      <td>0</td>\n",
       "      <td>0.0</td>\n",
       "      <td>float64</td>\n",
       "    </tr>\n",
       "    <tr>\n",
       "      <th>log_error</th>\n",
       "      <td>0</td>\n",
       "      <td>0</td>\n",
       "      <td>0.0</td>\n",
       "      <td>0</td>\n",
       "      <td>0.0</td>\n",
       "      <td>float64</td>\n",
       "    </tr>\n",
       "    <tr>\n",
       "      <th>tax_amount</th>\n",
       "      <td>0</td>\n",
       "      <td>0</td>\n",
       "      <td>0.0</td>\n",
       "      <td>0</td>\n",
       "      <td>0.0</td>\n",
       "      <td>float64</td>\n",
       "    </tr>\n",
       "    <tr>\n",
       "      <th>land_tax_value</th>\n",
       "      <td>0</td>\n",
       "      <td>0</td>\n",
       "      <td>0.0</td>\n",
       "      <td>0</td>\n",
       "      <td>0.0</td>\n",
       "      <td>float64</td>\n",
       "    </tr>\n",
       "    <tr>\n",
       "      <th>assessment_year</th>\n",
       "      <td>0</td>\n",
       "      <td>0</td>\n",
       "      <td>0.0</td>\n",
       "      <td>0</td>\n",
       "      <td>0.0</td>\n",
       "      <td>float64</td>\n",
       "    </tr>\n",
       "    <tr>\n",
       "      <th>tax_value</th>\n",
       "      <td>0</td>\n",
       "      <td>0</td>\n",
       "      <td>0.0</td>\n",
       "      <td>0</td>\n",
       "      <td>0.0</td>\n",
       "      <td>float64</td>\n",
       "    </tr>\n",
       "    <tr>\n",
       "      <th>struct_tax_value</th>\n",
       "      <td>0</td>\n",
       "      <td>0</td>\n",
       "      <td>0.0</td>\n",
       "      <td>0</td>\n",
       "      <td>0.0</td>\n",
       "      <td>float64</td>\n",
       "    </tr>\n",
       "    <tr>\n",
       "      <th>year_built</th>\n",
       "      <td>0</td>\n",
       "      <td>0</td>\n",
       "      <td>0.0</td>\n",
       "      <td>0</td>\n",
       "      <td>0.0</td>\n",
       "      <td>float64</td>\n",
       "    </tr>\n",
       "    <tr>\n",
       "      <th>unitcnt</th>\n",
       "      <td>0</td>\n",
       "      <td>0</td>\n",
       "      <td>0.0</td>\n",
       "      <td>0</td>\n",
       "      <td>0.0</td>\n",
       "      <td>float64</td>\n",
       "    </tr>\n",
       "    <tr>\n",
       "      <th>census_tract_and_block</th>\n",
       "      <td>0</td>\n",
       "      <td>0</td>\n",
       "      <td>0.0</td>\n",
       "      <td>0</td>\n",
       "      <td>0.0</td>\n",
       "      <td>float64</td>\n",
       "    </tr>\n",
       "    <tr>\n",
       "      <th>bathrooms</th>\n",
       "      <td>0</td>\n",
       "      <td>0</td>\n",
       "      <td>0.0</td>\n",
       "      <td>0</td>\n",
       "      <td>0.0</td>\n",
       "      <td>float64</td>\n",
       "    </tr>\n",
       "    <tr>\n",
       "      <th>prop_land_type_id</th>\n",
       "      <td>0</td>\n",
       "      <td>0</td>\n",
       "      <td>0.0</td>\n",
       "      <td>0</td>\n",
       "      <td>0.0</td>\n",
       "      <td>int64</td>\n",
       "    </tr>\n",
       "    <tr>\n",
       "      <th>prop_cnty_land_code</th>\n",
       "      <td>0</td>\n",
       "      <td>0</td>\n",
       "      <td>0.0</td>\n",
       "      <td>0</td>\n",
       "      <td>0.0</td>\n",
       "      <td>object</td>\n",
       "    </tr>\n",
       "    <tr>\n",
       "      <th>lot_sqft</th>\n",
       "      <td>0</td>\n",
       "      <td>0</td>\n",
       "      <td>0.0</td>\n",
       "      <td>0</td>\n",
       "      <td>0.0</td>\n",
       "      <td>float64</td>\n",
       "    </tr>\n",
       "    <tr>\n",
       "      <th>longitude</th>\n",
       "      <td>0</td>\n",
       "      <td>0</td>\n",
       "      <td>0.0</td>\n",
       "      <td>0</td>\n",
       "      <td>0.0</td>\n",
       "      <td>float64</td>\n",
       "    </tr>\n",
       "    <tr>\n",
       "      <th>latitude</th>\n",
       "      <td>0</td>\n",
       "      <td>0</td>\n",
       "      <td>0.0</td>\n",
       "      <td>0</td>\n",
       "      <td>0.0</td>\n",
       "      <td>float64</td>\n",
       "    </tr>\n",
       "    <tr>\n",
       "      <th>fips</th>\n",
       "      <td>0</td>\n",
       "      <td>0</td>\n",
       "      <td>0.0</td>\n",
       "      <td>0</td>\n",
       "      <td>0.0</td>\n",
       "      <td>int64</td>\n",
       "    </tr>\n",
       "    <tr>\n",
       "      <th>property_sqft</th>\n",
       "      <td>0</td>\n",
       "      <td>0</td>\n",
       "      <td>0.0</td>\n",
       "      <td>0</td>\n",
       "      <td>0.0</td>\n",
       "      <td>float64</td>\n",
       "    </tr>\n",
       "    <tr>\n",
       "      <th>bedrooms</th>\n",
       "      <td>0</td>\n",
       "      <td>0</td>\n",
       "      <td>0.0</td>\n",
       "      <td>0</td>\n",
       "      <td>0.0</td>\n",
       "      <td>float64</td>\n",
       "    </tr>\n",
       "    <tr>\n",
       "      <th>transaction_date</th>\n",
       "      <td>0</td>\n",
       "      <td>0</td>\n",
       "      <td>0.0</td>\n",
       "      <td>0</td>\n",
       "      <td>0.0</td>\n",
       "      <td>object</td>\n",
       "    </tr>\n",
       "  </tbody>\n",
       "</table>\n",
       "</div>"
      ],
      "text/plain": [
       "                        Zero Values  NULL Values  % of Total NULL Values  \\\n",
       "parcelid                          0            0                     0.0   \n",
       "region_id_county                  0            0                     0.0   \n",
       "log_error                         0            0                     0.0   \n",
       "tax_amount                        0            0                     0.0   \n",
       "land_tax_value                    0            0                     0.0   \n",
       "assessment_year                   0            0                     0.0   \n",
       "tax_value                         0            0                     0.0   \n",
       "struct_tax_value                  0            0                     0.0   \n",
       "year_built                        0            0                     0.0   \n",
       "unitcnt                           0            0                     0.0   \n",
       "census_tract_and_block            0            0                     0.0   \n",
       "bathrooms                         0            0                     0.0   \n",
       "prop_land_type_id                 0            0                     0.0   \n",
       "prop_cnty_land_code               0            0                     0.0   \n",
       "lot_sqft                          0            0                     0.0   \n",
       "longitude                         0            0                     0.0   \n",
       "latitude                          0            0                     0.0   \n",
       "fips                              0            0                     0.0   \n",
       "property_sqft                     0            0                     0.0   \n",
       "bedrooms                          0            0                     0.0   \n",
       "transaction_date                  0            0                     0.0   \n",
       "\n",
       "                        Total Zero's plus NULL Values  \\\n",
       "parcelid                                            0   \n",
       "region_id_county                                    0   \n",
       "log_error                                           0   \n",
       "tax_amount                                          0   \n",
       "land_tax_value                                      0   \n",
       "assessment_year                                     0   \n",
       "tax_value                                           0   \n",
       "struct_tax_value                                    0   \n",
       "year_built                                          0   \n",
       "unitcnt                                             0   \n",
       "census_tract_and_block                              0   \n",
       "bathrooms                                           0   \n",
       "prop_land_type_id                                   0   \n",
       "prop_cnty_land_code                                 0   \n",
       "lot_sqft                                            0   \n",
       "longitude                                           0   \n",
       "latitude                                            0   \n",
       "fips                                                0   \n",
       "property_sqft                                       0   \n",
       "bedrooms                                            0   \n",
       "transaction_date                                    0   \n",
       "\n",
       "                        % Total Zero's plus NULL Values Data Type  \n",
       "parcelid                                            0.0     int64  \n",
       "region_id_county                                    0.0   float64  \n",
       "log_error                                           0.0   float64  \n",
       "tax_amount                                          0.0   float64  \n",
       "land_tax_value                                      0.0   float64  \n",
       "assessment_year                                     0.0   float64  \n",
       "tax_value                                           0.0   float64  \n",
       "struct_tax_value                                    0.0   float64  \n",
       "year_built                                          0.0   float64  \n",
       "unitcnt                                             0.0   float64  \n",
       "census_tract_and_block                              0.0   float64  \n",
       "bathrooms                                           0.0   float64  \n",
       "prop_land_type_id                                   0.0     int64  \n",
       "prop_cnty_land_code                                 0.0    object  \n",
       "lot_sqft                                            0.0   float64  \n",
       "longitude                                           0.0   float64  \n",
       "latitude                                            0.0   float64  \n",
       "fips                                                0.0     int64  \n",
       "property_sqft                                       0.0   float64  \n",
       "bedrooms                                            0.0   float64  \n",
       "transaction_date                                    0.0    object  "
      ]
     },
     "execution_count": 8,
     "metadata": {},
     "output_type": "execute_result"
    }
   ],
   "source": [
    "ex.missing_zero_values_table(df)"
   ]
  },
  {
   "cell_type": "code",
   "execution_count": 9,
   "metadata": {},
   "outputs": [],
   "source": [
    "# missing_cols_df = pd.Series(data=df.isnull().sum(axis = 1).value_counts().sort_index(ascending=False))"
   ]
  },
  {
   "cell_type": "code",
   "execution_count": 10,
   "metadata": {},
   "outputs": [],
   "source": [
    "# missing_cols_df = pd.DataFrame(missing_cols_df)"
   ]
  },
  {
   "cell_type": "code",
   "execution_count": 11,
   "metadata": {},
   "outputs": [],
   "source": [
    "# missing_cols_df = missing_cols_df.reset_index()"
   ]
  },
  {
   "cell_type": "code",
   "execution_count": 12,
   "metadata": {},
   "outputs": [],
   "source": [
    "# missing_cols_df.columns = ['total_missing_cols','num_rows']"
   ]
  },
  {
   "cell_type": "code",
   "execution_count": 13,
   "metadata": {},
   "outputs": [],
   "source": [
    "# missing_cols_df['percent_cols_missing'] = round(100 * missing_cols_df.total_missing_cols / df.shape[1], 2)"
   ]
  },
  {
   "cell_type": "code",
   "execution_count": 14,
   "metadata": {},
   "outputs": [],
   "source": [
    "# missing_cols_df.head()"
   ]
  },
  {
   "cell_type": "code",
   "execution_count": 15,
   "metadata": {},
   "outputs": [],
   "source": [
    "# ex.missing_columns(df)"
   ]
  },
  {
   "cell_type": "code",
   "execution_count": 16,
   "metadata": {},
   "outputs": [],
   "source": [
    "# df.propertylandusetypeid.value_counts().sort_index()"
   ]
  },
  {
   "cell_type": "markdown",
   "metadata": {},
   "source": [
    "### propertylandusetypeid code meanings:\n",
    "- <span style=\"color:red\">red</span>: means that there are properties of this type in dataframe and are not \"single unit properties\"\n",
    "- <span style=\"color:green\">green</span>: are properties that are accepted as \"single unit properties\"\n",
    "- ~~strikeout~~: are property types that are not included in the dataframe\n",
    "\n",
    "    - <span style=\"color:red\">31\tCommercial/Office/Residential Mixed Used</span>\n",
    "    - ~~46\tMulti-Story Store~~\n",
    "    - ~~47\tStore/Office (Mixed Use)~~\n",
    "    - <span style=\"color:red\">246\tDuplex (2 Units, Any Combination)</span>\n",
    "    - <span style=\"color:red\">247\tTriplex (3 Units, Any Combination)</span>\n",
    "    - <span style=\"color:red\">248\tQuadruplex (4 Units, Any Combination)</span>\n",
    "    - <span style=\"color:green\">260\tResidential General</span>\n",
    "    - <span style=\"color:green\">261\tSingle Family Residential</span>\n",
    "    - ~~<span style=\"color:green\">262\tRural Residence</span>~~\n",
    "    - <span style=\"color:green\">263\tMobile Home</span>\n",
    "    - <span style=\"color:green\">264\tTownhouse</span>\n",
    "    - <span style=\"color:green\">265\tCluster Home</span>\n",
    "    - <span style=\"color:green\">266\tCondominium</span>\n",
    "    - <span style=\"color:green\">267\tCooperative</span>\n",
    "    - ~~<span style=\"color:green\">268\tRow House</span>~~\n",
    "    - <span style=\"color:red\">269\tPlanned Unit Development</span>\n",
    "    - ~~270\tResidential Common Area~~\n",
    "    - ~~271\tTimeshare~~\n",
    "    - ~~<span style=\"color:green\">273\tBungalow</span>~~\n",
    "    - ~~274\tZero Lot Line~~\n",
    "    - <span style=\"color:green\">275\tManufactured, Modular, Prefabricated Homes</span>\n",
    "    - ~~<span style=\"color:green\">276\tPatio Home</span>~~\n",
    "    - ~~<span style=\"color:green\">279\tInferred Single Family Residential</span>~~\n",
    "    - ~~290\tVacant Land - General~~\n",
    "    - ~~291\tResidential Vacant Land~~"
   ]
  },
  {
   "cell_type": "code",
   "execution_count": 17,
   "metadata": {},
   "outputs": [],
   "source": [
    "# df.propertylandusetypeid = df.propertylandusetypeid.astype(int)"
   ]
  },
  {
   "cell_type": "code",
   "execution_count": 18,
   "metadata": {},
   "outputs": [],
   "source": [
    "# # gave 'propertylandusetypeid' to variable x for ease, dropping propertylandusetypeid's that are not single unit properties\n",
    "# x='propertylandusetypeid'\n",
    "# df = df[df[x] != 31]\n",
    "# df = df[df[x] != 246]\n",
    "# df = df[df[x] != 247]\n",
    "# df = df[df[x] != 248]\n",
    "# df = df[df[x] != 269]"
   ]
  },
  {
   "cell_type": "code",
   "execution_count": 19,
   "metadata": {},
   "outputs": [],
   "source": [
    "# df.shape[0]"
   ]
  },
  {
   "cell_type": "code",
   "execution_count": 20,
   "metadata": {},
   "outputs": [],
   "source": [
    "# df.propertylandusetypeid.value_counts().sort_index()"
   ]
  },
  {
   "cell_type": "code",
   "execution_count": 21,
   "metadata": {},
   "outputs": [],
   "source": [
    "# df.unitcnt.value_counts()"
   ]
  },
  {
   "cell_type": "code",
   "execution_count": 22,
   "metadata": {},
   "outputs": [],
   "source": [
    "# df.unitcnt.isnull().sum()"
   ]
  },
  {
   "cell_type": "code",
   "execution_count": 23,
   "metadata": {},
   "outputs": [],
   "source": [
    "# fill unitcnt with 1 because these properties should be single unit properties\n",
    "\n",
    "# df.unitcnt.fillna(1, inplace=True)"
   ]
  },
  {
   "cell_type": "code",
   "execution_count": 24,
   "metadata": {},
   "outputs": [],
   "source": [
    "# df.unitcnt.isnull().sum()"
   ]
  },
  {
   "cell_type": "code",
   "execution_count": 25,
   "metadata": {},
   "outputs": [],
   "source": [
    "# df.unitcnt.value_counts()"
   ]
  },
  {
   "cell_type": "code",
   "execution_count": 26,
   "metadata": {},
   "outputs": [],
   "source": [
    "# drop any property listed less than or greater than 1 \n",
    "\n",
    "# df = df[df.unitcnt == 1]"
   ]
  },
  {
   "cell_type": "code",
   "execution_count": 27,
   "metadata": {},
   "outputs": [],
   "source": [
    "# df.unitcnt.value_counts()"
   ]
  },
  {
   "cell_type": "code",
   "execution_count": 28,
   "metadata": {},
   "outputs": [],
   "source": [
    "# df.shape"
   ]
  },
  {
   "cell_type": "code",
   "execution_count": 29,
   "metadata": {},
   "outputs": [],
   "source": [
    "# df = w.handle_missing_values(df, 0.6, 0.75)\n",
    "# df.shape"
   ]
  },
  {
   "cell_type": "code",
   "execution_count": 30,
   "metadata": {},
   "outputs": [],
   "source": [
    "# df.isnull().sum().sort_values(ascending=False)"
   ]
  },
  {
   "cell_type": "code",
   "execution_count": 31,
   "metadata": {},
   "outputs": [],
   "source": [
    "# dropcols = ['id','heatingorsystemtypeid','buildingqualitytypeid','propertyzoningdesc','heatingorsystemdesc','calculatedbathnbr','regionidzip','regionidcity']"
   ]
  },
  {
   "cell_type": "code",
   "execution_count": 32,
   "metadata": {},
   "outputs": [],
   "source": [
    "# df = df.drop(columns=dropcols)"
   ]
  },
  {
   "cell_type": "code",
   "execution_count": 33,
   "metadata": {},
   "outputs": [],
   "source": [
    "# df[df.taxamount.isnull()]"
   ]
  },
  {
   "cell_type": "code",
   "execution_count": 34,
   "metadata": {},
   "outputs": [],
   "source": [
    "# df[df.taxvaluedollarcnt.isnull()]"
   ]
  },
  {
   "cell_type": "code",
   "execution_count": 35,
   "metadata": {},
   "outputs": [],
   "source": [
    "# df = df[df.taxvaluedollarcnt.notnull()]"
   ]
  },
  {
   "cell_type": "code",
   "execution_count": 36,
   "metadata": {},
   "outputs": [],
   "source": [
    "# df.isnull().sum().sort_values(ascending=False)"
   ]
  },
  {
   "cell_type": "code",
   "execution_count": 37,
   "metadata": {},
   "outputs": [],
   "source": [
    "# df.structuretaxvaluedollarcnt.mean()"
   ]
  },
  {
   "cell_type": "code",
   "execution_count": 38,
   "metadata": {},
   "outputs": [],
   "source": [
    "# df.landtaxvaluedollarcnt.mean()"
   ]
  },
  {
   "cell_type": "code",
   "execution_count": 39,
   "metadata": {},
   "outputs": [],
   "source": [
    "# df.taxvaluedollarcnt.mean()"
   ]
  },
  {
   "cell_type": "code",
   "execution_count": 40,
   "metadata": {},
   "outputs": [],
   "source": [
    "# df.structuretaxvaluedollarcnt.mean() / df.landtaxvaluedollarcnt.mean()"
   ]
  },
  {
   "cell_type": "code",
   "execution_count": 41,
   "metadata": {},
   "outputs": [],
   "source": [
    "# df[df.structuretaxvaluedollarcnt.isnull()]"
   ]
  },
  {
   "cell_type": "markdown",
   "metadata": {},
   "source": [
    "### taxvaluedollarcnt = structuretaxvaluedollarcnt + landtaxvaluedollarcnt...  \n",
    "- dropping values b/c\n",
    "    - target feature if taxvaluedollarcnt and these values influence the target. 83 structure nulls\n",
    "    - taxamount will be dropped as well. 5 taxamount nulls\n",
    "    - so few values I am comfortable dropping"
   ]
  },
  {
   "cell_type": "code",
   "execution_count": 42,
   "metadata": {},
   "outputs": [],
   "source": [
    "# df = df[df.structuretaxvaluedollarcnt.notnull()]\n",
    "# df.shape"
   ]
  },
  {
   "cell_type": "code",
   "execution_count": 43,
   "metadata": {},
   "outputs": [],
   "source": [
    "# df = df[df.taxamount.notnull()]\n",
    "# df.shape"
   ]
  },
  {
   "cell_type": "code",
   "execution_count": 44,
   "metadata": {},
   "outputs": [],
   "source": [
    "# df.yearbuilt.describe()\n"
   ]
  },
  {
   "cell_type": "code",
   "execution_count": 45,
   "metadata": {},
   "outputs": [],
   "source": [
    "# knn b/c close neighborhoods go up at similar dates\n",
    "# will use yearbuilt, lat, long, fips\n",
    "# df.fips = df.fips.astype(int)\n",
    "# df.fips.dtype"
   ]
  },
  {
   "cell_type": "code",
   "execution_count": 46,
   "metadata": {},
   "outputs": [],
   "source": [
    "# df.isnull().sum()"
   ]
  },
  {
   "cell_type": "code",
   "execution_count": 47,
   "metadata": {},
   "outputs": [],
   "source": [
    "# from sklearn.impute import KNNImputer\n",
    "\n",
    "# #Use numeric columns that you want to use for imputation\n",
    "# knn_cols_df = df[['yearbuilt','latitude','longitude','fips']]\n",
    "# features = ['yearbuilt','latitude','longitude','fips']\n",
    "# # define the thing\n",
    "# imputer = KNNImputer(n_neighbors=4)\n",
    "\n",
    "# # fit the thing (or fit and use with fit_transform) only on train!\n",
    "# imputed = imputer.fit_transform(knn_cols_df)\n",
    "# imputed"
   ]
  },
  {
   "cell_type": "code",
   "execution_count": 48,
   "metadata": {},
   "outputs": [],
   "source": [
    "# imputed = pd.DataFrame(imputed, index = df.index, dtype=int)\n",
    "# imputed.head()"
   ]
  },
  {
   "cell_type": "code",
   "execution_count": 49,
   "metadata": {},
   "outputs": [],
   "source": [
    "# df['yearbuilt'] = imputed[[0]]"
   ]
  },
  {
   "cell_type": "code",
   "execution_count": 50,
   "metadata": {},
   "outputs": [],
   "source": [
    "# df = w.impute_knn(df, features, 4)"
   ]
  },
  {
   "cell_type": "code",
   "execution_count": 51,
   "metadata": {},
   "outputs": [],
   "source": [
    "# df.isnull().sum()"
   ]
  },
  {
   "cell_type": "code",
   "execution_count": 52,
   "metadata": {},
   "outputs": [],
   "source": [
    "# df.lotsizesquarefeet.describe()"
   ]
  },
  {
   "cell_type": "code",
   "execution_count": 53,
   "metadata": {},
   "outputs": [],
   "source": [
    "# #Use numeric columns that you want to use for imputation\n",
    "# knn_cols_df = df[['lotsizesquarefeet','latitude','longitude','fips','calculatedfinishedsquarefeet']]\n",
    "# features = ['lotsizesquarefeet','latitude','longitude','fips','calculatedfinishedsquarefeet']\n",
    "# # define the thing\n",
    "# imputer = KNNImputer(n_neighbors=4)\n",
    "\n",
    "# # fit the thing (or fit and use with fit_transform) only on train!\n",
    "# imputed = imputer.fit_transform(knn_cols_df)\n",
    "# imputed"
   ]
  },
  {
   "cell_type": "code",
   "execution_count": 54,
   "metadata": {},
   "outputs": [],
   "source": [
    "# imputed = pd.DataFrame(imputed, index = df.index, dtype=int)\n",
    "# imputed.head()"
   ]
  },
  {
   "cell_type": "code",
   "execution_count": 55,
   "metadata": {},
   "outputs": [],
   "source": [
    "# df['lotsizesquarefeet'] = imputed[[0]]"
   ]
  },
  {
   "cell_type": "code",
   "execution_count": 56,
   "metadata": {},
   "outputs": [],
   "source": [
    "# df = w.impute_knn(df, features, 4)"
   ]
  },
  {
   "cell_type": "code",
   "execution_count": 57,
   "metadata": {},
   "outputs": [],
   "source": [
    "# df = df[df.calculatedfinishedsquarefeet.notnull()]"
   ]
  },
  {
   "cell_type": "code",
   "execution_count": 58,
   "metadata": {},
   "outputs": [],
   "source": [
    "# df.isnull().sum()"
   ]
  },
  {
   "cell_type": "code",
   "execution_count": 59,
   "metadata": {},
   "outputs": [],
   "source": [
    "# dropcols = ['finishedsquarefeet12','fullbathcnt','censustractandblock','roomcnt']"
   ]
  },
  {
   "cell_type": "code",
   "execution_count": 60,
   "metadata": {},
   "outputs": [],
   "source": [
    "# df = df.drop(columns=dropcols)"
   ]
  },
  {
   "cell_type": "code",
   "execution_count": 61,
   "metadata": {},
   "outputs": [],
   "source": [
    "# df = df[df.bedroomcnt != 0]\n",
    "# df = df[df.bathroomcnt != 0]"
   ]
  },
  {
   "cell_type": "code",
   "execution_count": 62,
   "metadata": {},
   "outputs": [],
   "source": [
    "# ex.missing_zero_values_table(df)"
   ]
  },
  {
   "cell_type": "code",
   "execution_count": 63,
   "metadata": {},
   "outputs": [
    {
     "data": {
      "text/plain": [
       "['parcelid',\n",
       " 'bathrooms',\n",
       " 'bedrooms',\n",
       " 'property_sqft',\n",
       " 'fips',\n",
       " 'latitude',\n",
       " 'longitude',\n",
       " 'lot_sqft',\n",
       " 'prop_cnty_land_code',\n",
       " 'prop_land_type_id',\n",
       " 'census_tract_and_block',\n",
       " 'region_id_county',\n",
       " 'unitcnt',\n",
       " 'year_built',\n",
       " 'struct_tax_value',\n",
       " 'tax_value',\n",
       " 'assessment_year',\n",
       " 'land_tax_value',\n",
       " 'tax_amount',\n",
       " 'log_error',\n",
       " 'transaction_date']"
      ]
     },
     "execution_count": 63,
     "metadata": {},
     "output_type": "execute_result"
    }
   ],
   "source": [
    "list(df.columns)"
   ]
  },
  {
   "cell_type": "code",
   "execution_count": 64,
   "metadata": {},
   "outputs": [],
   "source": [
    "# df.columns = ['parcelid', 'bathrooms', 'bedrooms', 'property_sqft', 'fips', 'latitude', 'longitude', 'lot_sqft', 'prop_cnty_land_code', 'prop_land_type_id', 'census_tract_and_block', 'region_id_county', 'unitcnt', 'year_built', 'struct_tax_value', 'tax_value', 'assessment_year', 'land_tax_value', 'tax_amount', 'log_error', 'transaction_date']"
   ]
  },
  {
   "cell_type": "code",
   "execution_count": null,
   "metadata": {},
   "outputs": [],
   "source": []
  }
 ],
 "metadata": {
  "kernelspec": {
   "display_name": "Python 3",
   "language": "python",
   "name": "python3"
  },
  "language_info": {
   "codemirror_mode": {
    "name": "ipython",
    "version": 3
   },
   "file_extension": ".py",
   "mimetype": "text/x-python",
   "name": "python",
   "nbconvert_exporter": "python",
   "pygments_lexer": "ipython3",
   "version": "3.8.5"
  }
 },
 "nbformat": 4,
 "nbformat_minor": 4
}
